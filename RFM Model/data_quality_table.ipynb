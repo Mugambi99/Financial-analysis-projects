{
 "cells": [
  {
   "cell_type": "code",
   "execution_count": 1,
   "id": "85cea8eb",
   "metadata": {},
   "outputs": [],
   "source": [
    "import pandas as pd\n",
    "import numpy as np\n",
    "import matplotlib.pyplot as plt"
   ]
  },
  {
   "cell_type": "code",
   "execution_count": 2,
   "id": "14360519",
   "metadata": {},
   "outputs": [
    {
     "name": "stderr",
     "output_type": "stream",
     "text": [
      "C:\\Users\\HP\\AppData\\Local\\Temp/ipykernel_18444/3770145950.py:1: FutureWarning: Inferring datetime64[ns] from data containing strings is deprecated and will be removed in a future version. To retain the old behavior explicitly pass Series(data, dtype={value.dtype})\n",
      "  KPMG= pd.read_excel(\"KPMG.xlsx\", sheet_name=[\"Transactions\",\"NewCustomerList\",\"CustomerDemographic\",\"CustomerAddress\"])\n"
     ]
    }
   ],
   "source": [
    "KPMG= pd.read_excel(\"KPMG.xlsx\", sheet_name=[\"Transactions\",\"NewCustomerList\",\"CustomerDemographic\",\"CustomerAddress\"])"
   ]
  },
  {
   "cell_type": "code",
   "execution_count": 3,
   "id": "999c1ded",
   "metadata": {},
   "outputs": [
    {
     "data": {
      "text/plain": [
       "dict_keys(['Transactions', 'NewCustomerList', 'CustomerDemographic', 'CustomerAddress'])"
      ]
     },
     "execution_count": 3,
     "metadata": {},
     "output_type": "execute_result"
    }
   ],
   "source": [
    "KPMG.keys()"
   ]
  },
  {
   "cell_type": "code",
   "execution_count": 4,
   "id": "b3a47a46",
   "metadata": {},
   "outputs": [],
   "source": [
    "Transactions= KPMG[\"Transactions\"]\n",
    "NewCustomerList= KPMG['NewCustomerList']\n",
    "CustomerDemographic= KPMG['CustomerDemographic']\n",
    "CustomerAddress= KPMG['CustomerAddress']"
   ]
  },
  {
   "cell_type": "code",
   "execution_count": 5,
   "id": "836694a7",
   "metadata": {
    "collapsed": true
   },
   "outputs": [
    {
     "data": {
      "text/html": [
       "<div>\n",
       "<style scoped>\n",
       "    .dataframe tbody tr th:only-of-type {\n",
       "        vertical-align: middle;\n",
       "    }\n",
       "\n",
       "    .dataframe tbody tr th {\n",
       "        vertical-align: top;\n",
       "    }\n",
       "\n",
       "    .dataframe thead th {\n",
       "        text-align: right;\n",
       "    }\n",
       "</style>\n",
       "<table border=\"1\" class=\"dataframe\">\n",
       "  <thead>\n",
       "    <tr style=\"text-align: right;\">\n",
       "      <th></th>\n",
       "      <th>transaction_id</th>\n",
       "      <th>product_id</th>\n",
       "      <th>customer_id</th>\n",
       "      <th>transaction_date</th>\n",
       "      <th>online_order</th>\n",
       "      <th>order_status</th>\n",
       "      <th>brand</th>\n",
       "      <th>product_line</th>\n",
       "      <th>product_class</th>\n",
       "      <th>product_size</th>\n",
       "      <th>list_price</th>\n",
       "      <th>standard_cost</th>\n",
       "      <th>product_first_sold_date</th>\n",
       "    </tr>\n",
       "  </thead>\n",
       "  <tbody>\n",
       "    <tr>\n",
       "      <th>0</th>\n",
       "      <td>1</td>\n",
       "      <td>2</td>\n",
       "      <td>2950</td>\n",
       "      <td>2017-02-25</td>\n",
       "      <td>0.0</td>\n",
       "      <td>Approved</td>\n",
       "      <td>Solex</td>\n",
       "      <td>Standard</td>\n",
       "      <td>medium</td>\n",
       "      <td>medium</td>\n",
       "      <td>71.49</td>\n",
       "      <td>53.62</td>\n",
       "      <td>41245.0</td>\n",
       "    </tr>\n",
       "    <tr>\n",
       "      <th>1</th>\n",
       "      <td>2</td>\n",
       "      <td>3</td>\n",
       "      <td>3120</td>\n",
       "      <td>2017-05-21</td>\n",
       "      <td>1.0</td>\n",
       "      <td>Approved</td>\n",
       "      <td>Trek Bicycles</td>\n",
       "      <td>Standard</td>\n",
       "      <td>medium</td>\n",
       "      <td>large</td>\n",
       "      <td>2091.47</td>\n",
       "      <td>388.92</td>\n",
       "      <td>41701.0</td>\n",
       "    </tr>\n",
       "    <tr>\n",
       "      <th>2</th>\n",
       "      <td>3</td>\n",
       "      <td>37</td>\n",
       "      <td>402</td>\n",
       "      <td>2017-10-16</td>\n",
       "      <td>0.0</td>\n",
       "      <td>Approved</td>\n",
       "      <td>OHM Cycles</td>\n",
       "      <td>Standard</td>\n",
       "      <td>low</td>\n",
       "      <td>medium</td>\n",
       "      <td>1793.43</td>\n",
       "      <td>248.82</td>\n",
       "      <td>36361.0</td>\n",
       "    </tr>\n",
       "    <tr>\n",
       "      <th>3</th>\n",
       "      <td>4</td>\n",
       "      <td>88</td>\n",
       "      <td>3135</td>\n",
       "      <td>2017-08-31</td>\n",
       "      <td>0.0</td>\n",
       "      <td>Approved</td>\n",
       "      <td>Norco Bicycles</td>\n",
       "      <td>Standard</td>\n",
       "      <td>medium</td>\n",
       "      <td>medium</td>\n",
       "      <td>1198.46</td>\n",
       "      <td>381.10</td>\n",
       "      <td>36145.0</td>\n",
       "    </tr>\n",
       "    <tr>\n",
       "      <th>4</th>\n",
       "      <td>5</td>\n",
       "      <td>78</td>\n",
       "      <td>787</td>\n",
       "      <td>2017-10-01</td>\n",
       "      <td>1.0</td>\n",
       "      <td>Approved</td>\n",
       "      <td>Giant Bicycles</td>\n",
       "      <td>Standard</td>\n",
       "      <td>medium</td>\n",
       "      <td>large</td>\n",
       "      <td>1765.30</td>\n",
       "      <td>709.48</td>\n",
       "      <td>42226.0</td>\n",
       "    </tr>\n",
       "    <tr>\n",
       "      <th>...</th>\n",
       "      <td>...</td>\n",
       "      <td>...</td>\n",
       "      <td>...</td>\n",
       "      <td>...</td>\n",
       "      <td>...</td>\n",
       "      <td>...</td>\n",
       "      <td>...</td>\n",
       "      <td>...</td>\n",
       "      <td>...</td>\n",
       "      <td>...</td>\n",
       "      <td>...</td>\n",
       "      <td>...</td>\n",
       "      <td>...</td>\n",
       "    </tr>\n",
       "    <tr>\n",
       "      <th>19995</th>\n",
       "      <td>19996</td>\n",
       "      <td>51</td>\n",
       "      <td>1018</td>\n",
       "      <td>2017-06-24</td>\n",
       "      <td>1.0</td>\n",
       "      <td>Approved</td>\n",
       "      <td>OHM Cycles</td>\n",
       "      <td>Standard</td>\n",
       "      <td>high</td>\n",
       "      <td>medium</td>\n",
       "      <td>2005.66</td>\n",
       "      <td>1203.40</td>\n",
       "      <td>37823.0</td>\n",
       "    </tr>\n",
       "    <tr>\n",
       "      <th>19996</th>\n",
       "      <td>19997</td>\n",
       "      <td>41</td>\n",
       "      <td>127</td>\n",
       "      <td>2017-11-09</td>\n",
       "      <td>1.0</td>\n",
       "      <td>Approved</td>\n",
       "      <td>Solex</td>\n",
       "      <td>Road</td>\n",
       "      <td>medium</td>\n",
       "      <td>medium</td>\n",
       "      <td>416.98</td>\n",
       "      <td>312.74</td>\n",
       "      <td>35560.0</td>\n",
       "    </tr>\n",
       "    <tr>\n",
       "      <th>19997</th>\n",
       "      <td>19998</td>\n",
       "      <td>87</td>\n",
       "      <td>2284</td>\n",
       "      <td>2017-04-14</td>\n",
       "      <td>1.0</td>\n",
       "      <td>Approved</td>\n",
       "      <td>OHM Cycles</td>\n",
       "      <td>Standard</td>\n",
       "      <td>medium</td>\n",
       "      <td>medium</td>\n",
       "      <td>1636.90</td>\n",
       "      <td>44.71</td>\n",
       "      <td>40410.0</td>\n",
       "    </tr>\n",
       "    <tr>\n",
       "      <th>19998</th>\n",
       "      <td>19999</td>\n",
       "      <td>6</td>\n",
       "      <td>2764</td>\n",
       "      <td>2017-07-03</td>\n",
       "      <td>0.0</td>\n",
       "      <td>Approved</td>\n",
       "      <td>OHM Cycles</td>\n",
       "      <td>Standard</td>\n",
       "      <td>high</td>\n",
       "      <td>medium</td>\n",
       "      <td>227.88</td>\n",
       "      <td>136.73</td>\n",
       "      <td>38216.0</td>\n",
       "    </tr>\n",
       "    <tr>\n",
       "      <th>19999</th>\n",
       "      <td>20000</td>\n",
       "      <td>11</td>\n",
       "      <td>1144</td>\n",
       "      <td>2017-09-22</td>\n",
       "      <td>1.0</td>\n",
       "      <td>Approved</td>\n",
       "      <td>Trek Bicycles</td>\n",
       "      <td>Standard</td>\n",
       "      <td>medium</td>\n",
       "      <td>small</td>\n",
       "      <td>1775.81</td>\n",
       "      <td>1580.47</td>\n",
       "      <td>36334.0</td>\n",
       "    </tr>\n",
       "  </tbody>\n",
       "</table>\n",
       "<p>20000 rows × 13 columns</p>\n",
       "</div>"
      ],
      "text/plain": [
       "       transaction_id  product_id  customer_id transaction_date  online_order  \\\n",
       "0                   1           2         2950       2017-02-25           0.0   \n",
       "1                   2           3         3120       2017-05-21           1.0   \n",
       "2                   3          37          402       2017-10-16           0.0   \n",
       "3                   4          88         3135       2017-08-31           0.0   \n",
       "4                   5          78          787       2017-10-01           1.0   \n",
       "...               ...         ...          ...              ...           ...   \n",
       "19995           19996          51         1018       2017-06-24           1.0   \n",
       "19996           19997          41          127       2017-11-09           1.0   \n",
       "19997           19998          87         2284       2017-04-14           1.0   \n",
       "19998           19999           6         2764       2017-07-03           0.0   \n",
       "19999           20000          11         1144       2017-09-22           1.0   \n",
       "\n",
       "      order_status           brand product_line product_class product_size  \\\n",
       "0         Approved           Solex     Standard        medium       medium   \n",
       "1         Approved   Trek Bicycles     Standard        medium        large   \n",
       "2         Approved      OHM Cycles     Standard           low       medium   \n",
       "3         Approved  Norco Bicycles     Standard        medium       medium   \n",
       "4         Approved  Giant Bicycles     Standard        medium        large   \n",
       "...            ...             ...          ...           ...          ...   \n",
       "19995     Approved      OHM Cycles     Standard          high       medium   \n",
       "19996     Approved           Solex         Road        medium       medium   \n",
       "19997     Approved      OHM Cycles     Standard        medium       medium   \n",
       "19998     Approved      OHM Cycles     Standard          high       medium   \n",
       "19999     Approved   Trek Bicycles     Standard        medium        small   \n",
       "\n",
       "       list_price  standard_cost  product_first_sold_date  \n",
       "0           71.49          53.62                  41245.0  \n",
       "1         2091.47         388.92                  41701.0  \n",
       "2         1793.43         248.82                  36361.0  \n",
       "3         1198.46         381.10                  36145.0  \n",
       "4         1765.30         709.48                  42226.0  \n",
       "...           ...            ...                      ...  \n",
       "19995     2005.66        1203.40                  37823.0  \n",
       "19996      416.98         312.74                  35560.0  \n",
       "19997     1636.90          44.71                  40410.0  \n",
       "19998      227.88         136.73                  38216.0  \n",
       "19999     1775.81        1580.47                  36334.0  \n",
       "\n",
       "[20000 rows x 13 columns]"
      ]
     },
     "execution_count": 5,
     "metadata": {},
     "output_type": "execute_result"
    }
   ],
   "source": [
    "Transactions"
   ]
  },
  {
   "cell_type": "markdown",
   "id": "90e0b899",
   "metadata": {},
   "source": [
    "### DATA QUALITY CHECKS\n",
    "- ACCURACY - DESCRIBE\n",
    "- COMPLETENESS - INFO\n",
    "- CONSISTENCY - INFO\n",
    "- TIMELINESS - WORK ON DATES - SORRTING\n",
    "- VALIDITY - \n",
    "- UNIQUENESS (DUPLICATES)"
   ]
  },
  {
   "cell_type": "code",
   "execution_count": 6,
   "id": "d163be00",
   "metadata": {
    "scrolled": true
   },
   "outputs": [
    {
     "name": "stdout",
     "output_type": "stream",
     "text": [
      "<class 'pandas.core.frame.DataFrame'>\n",
      "RangeIndex: 20000 entries, 0 to 19999\n",
      "Data columns (total 13 columns):\n",
      " #   Column                   Non-Null Count  Dtype         \n",
      "---  ------                   --------------  -----         \n",
      " 0   transaction_id           20000 non-null  int64         \n",
      " 1   product_id               20000 non-null  int64         \n",
      " 2   customer_id              20000 non-null  int64         \n",
      " 3   transaction_date         20000 non-null  datetime64[ns]\n",
      " 4   online_order             19640 non-null  float64       \n",
      " 5   order_status             20000 non-null  object        \n",
      " 6   brand                    19803 non-null  object        \n",
      " 7   product_line             19803 non-null  object        \n",
      " 8   product_class            19803 non-null  object        \n",
      " 9   product_size             19803 non-null  object        \n",
      " 10  list_price               20000 non-null  float64       \n",
      " 11  standard_cost            19803 non-null  float64       \n",
      " 12  product_first_sold_date  19803 non-null  float64       \n",
      "dtypes: datetime64[ns](1), float64(4), int64(3), object(5)\n",
      "memory usage: 2.0+ MB\n",
      "<class 'pandas.core.frame.DataFrame'>\n",
      "RangeIndex: 1000 entries, 0 to 999\n",
      "Data columns (total 23 columns):\n",
      " #   Column                               Non-Null Count  Dtype         \n",
      "---  ------                               --------------  -----         \n",
      " 0   first_name                           1000 non-null   object        \n",
      " 1   last_name                            971 non-null    object        \n",
      " 2   gender                               1000 non-null   object        \n",
      " 3   past_3_years_bike_related_purchases  1000 non-null   int64         \n",
      " 4   DOB                                  983 non-null    datetime64[ns]\n",
      " 5   job_title                            894 non-null    object        \n",
      " 6   job_industry_category                835 non-null    object        \n",
      " 7   wealth_segment                       1000 non-null   object        \n",
      " 8   deceased_indicator                   1000 non-null   object        \n",
      " 9   owns_car                             1000 non-null   object        \n",
      " 10  tenure                               1000 non-null   int64         \n",
      " 11  address                              1000 non-null   object        \n",
      " 12  postcode                             1000 non-null   int64         \n",
      " 13  state                                1000 non-null   object        \n",
      " 14  country                              1000 non-null   object        \n",
      " 15  property_valuation                   1000 non-null   int64         \n",
      " 16  Unnamed: 16                          1000 non-null   float64       \n",
      " 17  Unnamed: 17                          1000 non-null   float64       \n",
      " 18  Unnamed: 18                          1000 non-null   float64       \n",
      " 19  Unnamed: 19                          1000 non-null   float64       \n",
      " 20  Unnamed: 20                          1000 non-null   int64         \n",
      " 21  Rank                                 1000 non-null   int64         \n",
      " 22  Value                                1000 non-null   float64       \n",
      "dtypes: datetime64[ns](1), float64(5), int64(6), object(11)\n",
      "memory usage: 179.8+ KB\n",
      "<class 'pandas.core.frame.DataFrame'>\n",
      "RangeIndex: 4000 entries, 0 to 3999\n",
      "Data columns (total 13 columns):\n",
      " #   Column                               Non-Null Count  Dtype         \n",
      "---  ------                               --------------  -----         \n",
      " 0   customer_id                          4000 non-null   int64         \n",
      " 1   first_name                           4000 non-null   object        \n",
      " 2   last_name                            3875 non-null   object        \n",
      " 3   gender                               4000 non-null   object        \n",
      " 4   past_3_years_bike_related_purchases  4000 non-null   int64         \n",
      " 5   DOB                                  3913 non-null   datetime64[ns]\n",
      " 6   job_title                            3494 non-null   object        \n",
      " 7   job_industry_category                3344 non-null   object        \n",
      " 8   wealth_segment                       4000 non-null   object        \n",
      " 9   deceased_indicator                   4000 non-null   object        \n",
      " 10  default                              3698 non-null   object        \n",
      " 11  owns_car                             4000 non-null   object        \n",
      " 12  tenure                               3913 non-null   float64       \n",
      "dtypes: datetime64[ns](1), float64(1), int64(2), object(9)\n",
      "memory usage: 406.4+ KB\n",
      "<class 'pandas.core.frame.DataFrame'>\n",
      "RangeIndex: 3999 entries, 0 to 3998\n",
      "Data columns (total 6 columns):\n",
      " #   Column              Non-Null Count  Dtype \n",
      "---  ------              --------------  ----- \n",
      " 0   customer_id         3999 non-null   int64 \n",
      " 1   address             3999 non-null   object\n",
      " 2   postcode            3999 non-null   int64 \n",
      " 3   state               3999 non-null   object\n",
      " 4   country             3999 non-null   object\n",
      " 5   property_valuation  3999 non-null   int64 \n",
      "dtypes: int64(3), object(3)\n",
      "memory usage: 187.6+ KB\n"
     ]
    }
   ],
   "source": [
    "for i in [Transactions,NewCustomerList,CustomerDemographic,CustomerAddress]:\n",
    "          i.info()"
   ]
  },
  {
   "cell_type": "markdown",
   "id": "131922d4",
   "metadata": {},
   "source": [
    "## TRANSACTIONS"
   ]
  },
  {
   "cell_type": "code",
   "execution_count": 7,
   "id": "24e4b228",
   "metadata": {},
   "outputs": [],
   "source": [
    "# we are converting the column product_first_sold_date to a datetimes dtype\n",
    "Transactions[\"product_first_sold_date\"]= pd.to_datetime(Transactions[\"product_first_sold_date\"]).dt.date"
   ]
  },
  {
   "cell_type": "code",
   "execution_count": 8,
   "id": "cc9fc66a",
   "metadata": {
    "collapsed": true
   },
   "outputs": [
    {
     "data": {
      "text/html": [
       "<div>\n",
       "<style scoped>\n",
       "    .dataframe tbody tr th:only-of-type {\n",
       "        vertical-align: middle;\n",
       "    }\n",
       "\n",
       "    .dataframe tbody tr th {\n",
       "        vertical-align: top;\n",
       "    }\n",
       "\n",
       "    .dataframe thead th {\n",
       "        text-align: right;\n",
       "    }\n",
       "</style>\n",
       "<table border=\"1\" class=\"dataframe\">\n",
       "  <thead>\n",
       "    <tr style=\"text-align: right;\">\n",
       "      <th></th>\n",
       "      <th>transaction_id</th>\n",
       "      <th>product_id</th>\n",
       "      <th>customer_id</th>\n",
       "      <th>online_order</th>\n",
       "      <th>list_price</th>\n",
       "      <th>standard_cost</th>\n",
       "    </tr>\n",
       "  </thead>\n",
       "  <tbody>\n",
       "    <tr>\n",
       "      <th>count</th>\n",
       "      <td>20000.000000</td>\n",
       "      <td>20000.00000</td>\n",
       "      <td>20000.000000</td>\n",
       "      <td>19640.000000</td>\n",
       "      <td>20000.000000</td>\n",
       "      <td>19803.000000</td>\n",
       "    </tr>\n",
       "    <tr>\n",
       "      <th>mean</th>\n",
       "      <td>10000.500000</td>\n",
       "      <td>45.36465</td>\n",
       "      <td>1738.246050</td>\n",
       "      <td>0.500458</td>\n",
       "      <td>1107.829449</td>\n",
       "      <td>556.046951</td>\n",
       "    </tr>\n",
       "    <tr>\n",
       "      <th>std</th>\n",
       "      <td>5773.647028</td>\n",
       "      <td>30.75359</td>\n",
       "      <td>1011.951046</td>\n",
       "      <td>0.500013</td>\n",
       "      <td>582.825242</td>\n",
       "      <td>405.955660</td>\n",
       "    </tr>\n",
       "    <tr>\n",
       "      <th>min</th>\n",
       "      <td>1.000000</td>\n",
       "      <td>0.00000</td>\n",
       "      <td>1.000000</td>\n",
       "      <td>0.000000</td>\n",
       "      <td>12.010000</td>\n",
       "      <td>7.210000</td>\n",
       "    </tr>\n",
       "    <tr>\n",
       "      <th>25%</th>\n",
       "      <td>5000.750000</td>\n",
       "      <td>18.00000</td>\n",
       "      <td>857.750000</td>\n",
       "      <td>0.000000</td>\n",
       "      <td>575.270000</td>\n",
       "      <td>215.140000</td>\n",
       "    </tr>\n",
       "    <tr>\n",
       "      <th>50%</th>\n",
       "      <td>10000.500000</td>\n",
       "      <td>44.00000</td>\n",
       "      <td>1736.000000</td>\n",
       "      <td>1.000000</td>\n",
       "      <td>1163.890000</td>\n",
       "      <td>507.580000</td>\n",
       "    </tr>\n",
       "    <tr>\n",
       "      <th>75%</th>\n",
       "      <td>15000.250000</td>\n",
       "      <td>72.00000</td>\n",
       "      <td>2613.000000</td>\n",
       "      <td>1.000000</td>\n",
       "      <td>1635.300000</td>\n",
       "      <td>795.100000</td>\n",
       "    </tr>\n",
       "    <tr>\n",
       "      <th>max</th>\n",
       "      <td>20000.000000</td>\n",
       "      <td>100.00000</td>\n",
       "      <td>5034.000000</td>\n",
       "      <td>1.000000</td>\n",
       "      <td>2091.470000</td>\n",
       "      <td>1759.850000</td>\n",
       "    </tr>\n",
       "  </tbody>\n",
       "</table>\n",
       "</div>"
      ],
      "text/plain": [
       "       transaction_id   product_id   customer_id  online_order    list_price  \\\n",
       "count    20000.000000  20000.00000  20000.000000  19640.000000  20000.000000   \n",
       "mean     10000.500000     45.36465   1738.246050      0.500458   1107.829449   \n",
       "std       5773.647028     30.75359   1011.951046      0.500013    582.825242   \n",
       "min          1.000000      0.00000      1.000000      0.000000     12.010000   \n",
       "25%       5000.750000     18.00000    857.750000      0.000000    575.270000   \n",
       "50%      10000.500000     44.00000   1736.000000      1.000000   1163.890000   \n",
       "75%      15000.250000     72.00000   2613.000000      1.000000   1635.300000   \n",
       "max      20000.000000    100.00000   5034.000000      1.000000   2091.470000   \n",
       "\n",
       "       standard_cost  \n",
       "count   19803.000000  \n",
       "mean      556.046951  \n",
       "std       405.955660  \n",
       "min         7.210000  \n",
       "25%       215.140000  \n",
       "50%       507.580000  \n",
       "75%       795.100000  \n",
       "max      1759.850000  "
      ]
     },
     "execution_count": 8,
     "metadata": {},
     "output_type": "execute_result"
    }
   ],
   "source": [
    "Transactions.describe()"
   ]
  },
  {
   "cell_type": "code",
   "execution_count": 9,
   "id": "dd68f975",
   "metadata": {
    "collapsed": true
   },
   "outputs": [
    {
     "data": {
      "text/plain": [
       "transaction_id               0\n",
       "product_id                   0\n",
       "customer_id                  0\n",
       "transaction_date             0\n",
       "online_order               360\n",
       "order_status                 0\n",
       "brand                      197\n",
       "product_line               197\n",
       "product_class              197\n",
       "product_size               197\n",
       "list_price                   0\n",
       "standard_cost              197\n",
       "product_first_sold_date    197\n",
       "dtype: int64"
      ]
     },
     "execution_count": 9,
     "metadata": {},
     "output_type": "execute_result"
    }
   ],
   "source": [
    "Transactions.isna().sum()"
   ]
  },
  {
   "cell_type": "code",
   "execution_count": 10,
   "id": "519a8142",
   "metadata": {
    "collapsed": true
   },
   "outputs": [
    {
     "data": {
      "text/plain": [
       "Index(['transaction_id', 'product_id', 'customer_id', 'transaction_date',\n",
       "       'online_order', 'order_status', 'brand', 'product_line',\n",
       "       'product_class', 'product_size', 'list_price', 'standard_cost',\n",
       "       'product_first_sold_date'],\n",
       "      dtype='object')"
      ]
     },
     "execution_count": 10,
     "metadata": {},
     "output_type": "execute_result"
    }
   ],
   "source": [
    "Transactions.columns"
   ]
  },
  {
   "cell_type": "code",
   "execution_count": 11,
   "id": "23595b11",
   "metadata": {},
   "outputs": [],
   "source": [
    "# Transactions.dropna(axis=\"index\", how=\"all\", subset=[\"brand\", \n",
    "#                                                      \"product_line\",\n",
    "#                                                      \"product_class\",\n",
    "#                                                      \"product_size\",\n",
    "#                                                      \"standard_cost\",\n",
    "# #                                                      \"product_first_sold_date\"], inplace=True)"
   ]
  },
  {
   "cell_type": "markdown",
   "id": "4c02ee43",
   "metadata": {},
   "source": [
    "###### Timeliness"
   ]
  },
  {
   "cell_type": "code",
   "execution_count": 12,
   "id": "908f638a",
   "metadata": {},
   "outputs": [
    {
     "data": {
      "text/plain": [
       "516     2017-01-01\n",
       "5876    2017-01-01\n",
       "3459    2017-01-01\n",
       "12484   2017-01-01\n",
       "19130   2017-01-01\n",
       "Name: transaction_date, dtype: datetime64[ns]"
      ]
     },
     "execution_count": 12,
     "metadata": {},
     "output_type": "execute_result"
    }
   ],
   "source": [
    "Transactions.transaction_date.sort_values(ascending=True)[:5]"
   ]
  },
  {
   "cell_type": "markdown",
   "id": "e7d8168e",
   "metadata": {},
   "source": [
    "###### Uniqueness"
   ]
  },
  {
   "cell_type": "code",
   "execution_count": 13,
   "id": "92557d16",
   "metadata": {},
   "outputs": [
    {
     "data": {
      "text/plain": [
       "0"
      ]
     },
     "execution_count": 13,
     "metadata": {},
     "output_type": "execute_result"
    }
   ],
   "source": [
    "Transactions.duplicated().sum()"
   ]
  },
  {
   "cell_type": "markdown",
   "id": "787f6389",
   "metadata": {},
   "source": [
    "**We need to add the profit columns**"
   ]
  },
  {
   "cell_type": "code",
   "execution_count": 14,
   "id": "558407d8",
   "metadata": {},
   "outputs": [],
   "source": [
    "Transactions[\"Profit\"]= Transactions[\"list_price\"]- Transactions[\"standard_cost\"]"
   ]
  },
  {
   "cell_type": "markdown",
   "id": "da36c21b",
   "metadata": {},
   "source": [
    "## NEW CUSTOMER LIST"
   ]
  },
  {
   "cell_type": "code",
   "execution_count": 15,
   "id": "5982f7e7",
   "metadata": {
    "collapsed": true
   },
   "outputs": [
    {
     "data": {
      "text/html": [
       "<div>\n",
       "<style scoped>\n",
       "    .dataframe tbody tr th:only-of-type {\n",
       "        vertical-align: middle;\n",
       "    }\n",
       "\n",
       "    .dataframe tbody tr th {\n",
       "        vertical-align: top;\n",
       "    }\n",
       "\n",
       "    .dataframe thead th {\n",
       "        text-align: right;\n",
       "    }\n",
       "</style>\n",
       "<table border=\"1\" class=\"dataframe\">\n",
       "  <thead>\n",
       "    <tr style=\"text-align: right;\">\n",
       "      <th></th>\n",
       "      <th>past_3_years_bike_related_purchases</th>\n",
       "      <th>tenure</th>\n",
       "      <th>postcode</th>\n",
       "      <th>property_valuation</th>\n",
       "      <th>Unnamed: 16</th>\n",
       "      <th>Unnamed: 17</th>\n",
       "      <th>Unnamed: 18</th>\n",
       "      <th>Unnamed: 19</th>\n",
       "      <th>Unnamed: 20</th>\n",
       "      <th>Rank</th>\n",
       "      <th>Value</th>\n",
       "    </tr>\n",
       "  </thead>\n",
       "  <tbody>\n",
       "    <tr>\n",
       "      <th>count</th>\n",
       "      <td>1000.000000</td>\n",
       "      <td>1000.000000</td>\n",
       "      <td>1000.000000</td>\n",
       "      <td>1000.000000</td>\n",
       "      <td>1000.000000</td>\n",
       "      <td>1000.000000</td>\n",
       "      <td>1000.000000</td>\n",
       "      <td>1000.000000</td>\n",
       "      <td>1000.000000</td>\n",
       "      <td>1000.000000</td>\n",
       "      <td>1000.000000</td>\n",
       "    </tr>\n",
       "    <tr>\n",
       "      <th>mean</th>\n",
       "      <td>49.836000</td>\n",
       "      <td>11.388000</td>\n",
       "      <td>3019.227000</td>\n",
       "      <td>7.397000</td>\n",
       "      <td>0.754080</td>\n",
       "      <td>0.847190</td>\n",
       "      <td>0.952683</td>\n",
       "      <td>0.879094</td>\n",
       "      <td>498.819000</td>\n",
       "      <td>498.819000</td>\n",
       "      <td>0.881714</td>\n",
       "    </tr>\n",
       "    <tr>\n",
       "      <th>std</th>\n",
       "      <td>27.796686</td>\n",
       "      <td>5.037145</td>\n",
       "      <td>848.895767</td>\n",
       "      <td>2.758804</td>\n",
       "      <td>0.206227</td>\n",
       "      <td>0.251466</td>\n",
       "      <td>0.300372</td>\n",
       "      <td>0.283298</td>\n",
       "      <td>288.810997</td>\n",
       "      <td>288.810997</td>\n",
       "      <td>0.293525</td>\n",
       "    </tr>\n",
       "    <tr>\n",
       "      <th>min</th>\n",
       "      <td>0.000000</td>\n",
       "      <td>0.000000</td>\n",
       "      <td>2000.000000</td>\n",
       "      <td>1.000000</td>\n",
       "      <td>0.400000</td>\n",
       "      <td>0.400000</td>\n",
       "      <td>0.400000</td>\n",
       "      <td>0.340000</td>\n",
       "      <td>1.000000</td>\n",
       "      <td>1.000000</td>\n",
       "      <td>0.340000</td>\n",
       "    </tr>\n",
       "    <tr>\n",
       "      <th>25%</th>\n",
       "      <td>26.750000</td>\n",
       "      <td>7.000000</td>\n",
       "      <td>2209.000000</td>\n",
       "      <td>6.000000</td>\n",
       "      <td>0.570000</td>\n",
       "      <td>0.637500</td>\n",
       "      <td>0.700000</td>\n",
       "      <td>0.650781</td>\n",
       "      <td>250.000000</td>\n",
       "      <td>250.000000</td>\n",
       "      <td>0.649531</td>\n",
       "    </tr>\n",
       "    <tr>\n",
       "      <th>50%</th>\n",
       "      <td>51.000000</td>\n",
       "      <td>11.000000</td>\n",
       "      <td>2800.000000</td>\n",
       "      <td>8.000000</td>\n",
       "      <td>0.770000</td>\n",
       "      <td>0.840000</td>\n",
       "      <td>0.950000</td>\n",
       "      <td>0.854250</td>\n",
       "      <td>500.000000</td>\n",
       "      <td>500.000000</td>\n",
       "      <td>0.860000</td>\n",
       "    </tr>\n",
       "    <tr>\n",
       "      <th>75%</th>\n",
       "      <td>72.000000</td>\n",
       "      <td>15.000000</td>\n",
       "      <td>3845.500000</td>\n",
       "      <td>9.000000</td>\n",
       "      <td>0.930000</td>\n",
       "      <td>1.040000</td>\n",
       "      <td>1.175000</td>\n",
       "      <td>1.087500</td>\n",
       "      <td>750.250000</td>\n",
       "      <td>750.250000</td>\n",
       "      <td>1.075000</td>\n",
       "    </tr>\n",
       "    <tr>\n",
       "      <th>max</th>\n",
       "      <td>99.000000</td>\n",
       "      <td>22.000000</td>\n",
       "      <td>4879.000000</td>\n",
       "      <td>12.000000</td>\n",
       "      <td>1.100000</td>\n",
       "      <td>1.375000</td>\n",
       "      <td>1.718750</td>\n",
       "      <td>1.718750</td>\n",
       "      <td>1000.000000</td>\n",
       "      <td>1000.000000</td>\n",
       "      <td>1.718750</td>\n",
       "    </tr>\n",
       "  </tbody>\n",
       "</table>\n",
       "</div>"
      ],
      "text/plain": [
       "       past_3_years_bike_related_purchases       tenure     postcode  \\\n",
       "count                          1000.000000  1000.000000  1000.000000   \n",
       "mean                             49.836000    11.388000  3019.227000   \n",
       "std                              27.796686     5.037145   848.895767   \n",
       "min                               0.000000     0.000000  2000.000000   \n",
       "25%                              26.750000     7.000000  2209.000000   \n",
       "50%                              51.000000    11.000000  2800.000000   \n",
       "75%                              72.000000    15.000000  3845.500000   \n",
       "max                              99.000000    22.000000  4879.000000   \n",
       "\n",
       "       property_valuation  Unnamed: 16  Unnamed: 17  Unnamed: 18  Unnamed: 19  \\\n",
       "count         1000.000000  1000.000000  1000.000000  1000.000000  1000.000000   \n",
       "mean             7.397000     0.754080     0.847190     0.952683     0.879094   \n",
       "std              2.758804     0.206227     0.251466     0.300372     0.283298   \n",
       "min              1.000000     0.400000     0.400000     0.400000     0.340000   \n",
       "25%              6.000000     0.570000     0.637500     0.700000     0.650781   \n",
       "50%              8.000000     0.770000     0.840000     0.950000     0.854250   \n",
       "75%              9.000000     0.930000     1.040000     1.175000     1.087500   \n",
       "max             12.000000     1.100000     1.375000     1.718750     1.718750   \n",
       "\n",
       "       Unnamed: 20         Rank        Value  \n",
       "count  1000.000000  1000.000000  1000.000000  \n",
       "mean    498.819000   498.819000     0.881714  \n",
       "std     288.810997   288.810997     0.293525  \n",
       "min       1.000000     1.000000     0.340000  \n",
       "25%     250.000000   250.000000     0.649531  \n",
       "50%     500.000000   500.000000     0.860000  \n",
       "75%     750.250000   750.250000     1.075000  \n",
       "max    1000.000000  1000.000000     1.718750  "
      ]
     },
     "execution_count": 15,
     "metadata": {},
     "output_type": "execute_result"
    }
   ],
   "source": [
    "NewCustomerList.describe()"
   ]
  },
  {
   "cell_type": "code",
   "execution_count": 16,
   "id": "91188c31",
   "metadata": {},
   "outputs": [
    {
     "data": {
      "text/plain": [
       "Index(['first_name', 'last_name', 'gender',\n",
       "       'past_3_years_bike_related_purchases', 'DOB', 'job_title',\n",
       "       'job_industry_category', 'wealth_segment', 'deceased_indicator',\n",
       "       'owns_car', 'tenure', 'address', 'postcode', 'state', 'country',\n",
       "       'property_valuation', 'Unnamed: 16', 'Unnamed: 17', 'Unnamed: 18',\n",
       "       'Unnamed: 19', 'Unnamed: 20', 'Rank', 'Value'],\n",
       "      dtype='object')"
      ]
     },
     "execution_count": 16,
     "metadata": {},
     "output_type": "execute_result"
    }
   ],
   "source": [
    "NewCustomerList.columns"
   ]
  },
  {
   "cell_type": "code",
   "execution_count": 17,
   "id": "b33727c0",
   "metadata": {},
   "outputs": [
    {
     "data": {
      "text/plain": [
       "Female    513\n",
       "Male      470\n",
       "U          17\n",
       "Name: gender, dtype: int64"
      ]
     },
     "execution_count": 17,
     "metadata": {},
     "output_type": "execute_result"
    }
   ],
   "source": [
    "NewCustomerList[\"gender\"].value_counts()"
   ]
  },
  {
   "cell_type": "code",
   "execution_count": 18,
   "id": "fe92c5c8",
   "metadata": {},
   "outputs": [],
   "source": [
    "NewCustomerList[\"gender\"].replace(\"U\", \"UnSpecified\", inplace=True)"
   ]
  },
  {
   "cell_type": "code",
   "execution_count": 19,
   "id": "b292efbb",
   "metadata": {},
   "outputs": [],
   "source": [
    "NewCustomerList.drop(columns=['Unnamed: 16', 'Unnamed: 17', 'Unnamed: 18','Unnamed: 19', 'Unnamed: 20'], inplace=True)"
   ]
  },
  {
   "cell_type": "code",
   "execution_count": 20,
   "id": "2cb29dd9",
   "metadata": {
    "collapsed": true
   },
   "outputs": [
    {
     "data": {
      "text/plain": [
       "first_name                               0\n",
       "last_name                               29\n",
       "gender                                   0\n",
       "past_3_years_bike_related_purchases      0\n",
       "DOB                                     17\n",
       "job_title                              106\n",
       "job_industry_category                  165\n",
       "wealth_segment                           0\n",
       "deceased_indicator                       0\n",
       "owns_car                                 0\n",
       "tenure                                   0\n",
       "address                                  0\n",
       "postcode                                 0\n",
       "state                                    0\n",
       "country                                  0\n",
       "property_valuation                       0\n",
       "Rank                                     0\n",
       "Value                                    0\n",
       "dtype: int64"
      ]
     },
     "execution_count": 20,
     "metadata": {},
     "output_type": "execute_result"
    }
   ],
   "source": [
    "NewCustomerList.isna().sum()"
   ]
  },
  {
   "cell_type": "code",
   "execution_count": 21,
   "id": "3fd724e9",
   "metadata": {},
   "outputs": [
    {
     "data": {
      "text/plain": [
       "0"
      ]
     },
     "execution_count": 21,
     "metadata": {},
     "output_type": "execute_result"
    }
   ],
   "source": [
    "NewCustomerList.duplicated().sum()"
   ]
  },
  {
   "cell_type": "code",
   "execution_count": 22,
   "id": "e33a2adb",
   "metadata": {
    "collapsed": true
   },
   "outputs": [
    {
     "data": {
      "text/plain": [
       "797   1938-06-08\n",
       "885   1938-06-09\n",
       "769   1938-08-05\n",
       "585   1938-08-30\n",
       "265   1938-08-31\n",
       "Name: DOB, dtype: datetime64[ns]"
      ]
     },
     "execution_count": 22,
     "metadata": {},
     "output_type": "execute_result"
    }
   ],
   "source": [
    "NewCustomerList.DOB.sort_values(ascending=True)[:5]"
   ]
  },
  {
   "cell_type": "markdown",
   "id": "d45b5348",
   "metadata": {},
   "source": [
    "## CUSTOMER DEMOGRAPHIC"
   ]
  },
  {
   "cell_type": "code",
   "execution_count": 23,
   "id": "baed85c9",
   "metadata": {
    "collapsed": true
   },
   "outputs": [
    {
     "data": {
      "text/html": [
       "<div>\n",
       "<style scoped>\n",
       "    .dataframe tbody tr th:only-of-type {\n",
       "        vertical-align: middle;\n",
       "    }\n",
       "\n",
       "    .dataframe tbody tr th {\n",
       "        vertical-align: top;\n",
       "    }\n",
       "\n",
       "    .dataframe thead th {\n",
       "        text-align: right;\n",
       "    }\n",
       "</style>\n",
       "<table border=\"1\" class=\"dataframe\">\n",
       "  <thead>\n",
       "    <tr style=\"text-align: right;\">\n",
       "      <th></th>\n",
       "      <th>customer_id</th>\n",
       "      <th>past_3_years_bike_related_purchases</th>\n",
       "      <th>tenure</th>\n",
       "    </tr>\n",
       "  </thead>\n",
       "  <tbody>\n",
       "    <tr>\n",
       "      <th>count</th>\n",
       "      <td>4000.000000</td>\n",
       "      <td>4000.000000</td>\n",
       "      <td>3913.000000</td>\n",
       "    </tr>\n",
       "    <tr>\n",
       "      <th>mean</th>\n",
       "      <td>2000.500000</td>\n",
       "      <td>48.890000</td>\n",
       "      <td>10.657041</td>\n",
       "    </tr>\n",
       "    <tr>\n",
       "      <th>std</th>\n",
       "      <td>1154.844867</td>\n",
       "      <td>28.715005</td>\n",
       "      <td>5.660146</td>\n",
       "    </tr>\n",
       "    <tr>\n",
       "      <th>min</th>\n",
       "      <td>1.000000</td>\n",
       "      <td>0.000000</td>\n",
       "      <td>1.000000</td>\n",
       "    </tr>\n",
       "    <tr>\n",
       "      <th>25%</th>\n",
       "      <td>1000.750000</td>\n",
       "      <td>24.000000</td>\n",
       "      <td>6.000000</td>\n",
       "    </tr>\n",
       "    <tr>\n",
       "      <th>50%</th>\n",
       "      <td>2000.500000</td>\n",
       "      <td>48.000000</td>\n",
       "      <td>11.000000</td>\n",
       "    </tr>\n",
       "    <tr>\n",
       "      <th>75%</th>\n",
       "      <td>3000.250000</td>\n",
       "      <td>73.000000</td>\n",
       "      <td>15.000000</td>\n",
       "    </tr>\n",
       "    <tr>\n",
       "      <th>max</th>\n",
       "      <td>4000.000000</td>\n",
       "      <td>99.000000</td>\n",
       "      <td>22.000000</td>\n",
       "    </tr>\n",
       "  </tbody>\n",
       "</table>\n",
       "</div>"
      ],
      "text/plain": [
       "       customer_id  past_3_years_bike_related_purchases       tenure\n",
       "count  4000.000000                          4000.000000  3913.000000\n",
       "mean   2000.500000                            48.890000    10.657041\n",
       "std    1154.844867                            28.715005     5.660146\n",
       "min       1.000000                             0.000000     1.000000\n",
       "25%    1000.750000                            24.000000     6.000000\n",
       "50%    2000.500000                            48.000000    11.000000\n",
       "75%    3000.250000                            73.000000    15.000000\n",
       "max    4000.000000                            99.000000    22.000000"
      ]
     },
     "execution_count": 23,
     "metadata": {},
     "output_type": "execute_result"
    }
   ],
   "source": [
    "CustomerDemographic.describe()"
   ]
  },
  {
   "cell_type": "code",
   "execution_count": 24,
   "id": "cc4e3666",
   "metadata": {},
   "outputs": [
    {
     "data": {
      "text/plain": [
       "Index(['customer_id', 'first_name', 'last_name', 'gender',\n",
       "       'past_3_years_bike_related_purchases', 'DOB', 'job_title',\n",
       "       'job_industry_category', 'wealth_segment', 'deceased_indicator',\n",
       "       'default', 'owns_car', 'tenure'],\n",
       "      dtype='object')"
      ]
     },
     "execution_count": 24,
     "metadata": {},
     "output_type": "execute_result"
    }
   ],
   "source": [
    "CustomerDemographic.columns"
   ]
  },
  {
   "cell_type": "code",
   "execution_count": 25,
   "id": "353db1a1",
   "metadata": {},
   "outputs": [
    {
     "data": {
      "text/plain": [
       "0                                                      \"'\n",
       "1                            <script>alert('hi')</script>\n",
       "2                                     2018-02-01 00:00:00\n",
       "3       () { _; } >_[$($())] { touch /tmp/blns.shellsh...\n",
       "4                                                     NIL\n",
       "                              ...                        \n",
       "3995                                                 -100\n",
       "3996                                             â¦testâ§\n",
       "3997                                                  NaN\n",
       "3998                               Â¡â¢Â£Â¢âÂ§Â¶â¢ÂªÂºââ \n",
       "3999                                                  0/0\n",
       "Name: default, Length: 4000, dtype: object"
      ]
     },
     "execution_count": 25,
     "metadata": {},
     "output_type": "execute_result"
    }
   ],
   "source": [
    "CustomerDemographic['default']"
   ]
  },
  {
   "cell_type": "code",
   "execution_count": 26,
   "id": "8e3269bb",
   "metadata": {},
   "outputs": [],
   "source": [
    "CustomerDemographic.drop(columns='default', inplace=True)"
   ]
  },
  {
   "cell_type": "code",
   "execution_count": 27,
   "id": "88d935d6",
   "metadata": {},
   "outputs": [
    {
     "data": {
      "text/plain": [
       "Female    2037\n",
       "Male      1872\n",
       "U           88\n",
       "F            1\n",
       "Femal        1\n",
       "M            1\n",
       "Name: gender, dtype: int64"
      ]
     },
     "execution_count": 27,
     "metadata": {},
     "output_type": "execute_result"
    }
   ],
   "source": [
    "CustomerDemographic[\"gender\"].value_counts()"
   ]
  },
  {
   "cell_type": "code",
   "execution_count": 28,
   "id": "d75c8b90",
   "metadata": {},
   "outputs": [],
   "source": [
    "CustomerDemographic[\"gender\"].replace(\"U\", \"UnSpecified\", inplace=True)\n",
    "CustomerDemographic[\"gender\"].replace(\"F\", \"Female\", inplace=True)\n",
    "CustomerDemographic[\"gender\"].replace(\"Femal\", \"Female\", inplace=True)\n",
    "CustomerDemographic[\"gender\"].replace(\"M\", \"Male\", inplace=True)"
   ]
  },
  {
   "cell_type": "code",
   "execution_count": 29,
   "id": "de29cc6a",
   "metadata": {},
   "outputs": [
    {
     "data": {
      "text/plain": [
       "customer_id                              0\n",
       "first_name                               0\n",
       "last_name                              125\n",
       "gender                                   0\n",
       "past_3_years_bike_related_purchases      0\n",
       "DOB                                     87\n",
       "job_title                              506\n",
       "job_industry_category                  656\n",
       "wealth_segment                           0\n",
       "deceased_indicator                       0\n",
       "owns_car                                 0\n",
       "tenure                                  87\n",
       "dtype: int64"
      ]
     },
     "execution_count": 29,
     "metadata": {},
     "output_type": "execute_result"
    }
   ],
   "source": [
    "CustomerDemographic.isna().sum()"
   ]
  },
  {
   "cell_type": "code",
   "execution_count": 30,
   "id": "03b7e072",
   "metadata": {},
   "outputs": [
    {
     "data": {
      "text/plain": [
       "0"
      ]
     },
     "execution_count": 30,
     "metadata": {},
     "output_type": "execute_result"
    }
   ],
   "source": [
    "CustomerDemographic.duplicated().sum()"
   ]
  },
  {
   "cell_type": "code",
   "execution_count": 31,
   "id": "3036e22c",
   "metadata": {},
   "outputs": [
    {
     "data": {
      "text/plain": [
       "33     1843-12-21\n",
       "719    1931-10-23\n",
       "1091   1935-08-22\n",
       "3409   1940-09-22\n",
       "2412   1943-08-11\n",
       "Name: DOB, dtype: datetime64[ns]"
      ]
     },
     "execution_count": 31,
     "metadata": {},
     "output_type": "execute_result"
    }
   ],
   "source": [
    "CustomerDemographic.DOB.sort_values(ascending=True)[:5]"
   ]
  },
  {
   "cell_type": "markdown",
   "id": "842939cc",
   "metadata": {},
   "source": [
    "**1843-12-21 - There is no way someone was born in the year 1843 and still alive to purchase the bike**"
   ]
  },
  {
   "cell_type": "markdown",
   "id": "fd2ca5d2",
   "metadata": {},
   "source": [
    "## CUSTOMER ADDRESS"
   ]
  },
  {
   "cell_type": "code",
   "execution_count": 32,
   "id": "414b7d14",
   "metadata": {
    "collapsed": true
   },
   "outputs": [
    {
     "data": {
      "text/html": [
       "<div>\n",
       "<style scoped>\n",
       "    .dataframe tbody tr th:only-of-type {\n",
       "        vertical-align: middle;\n",
       "    }\n",
       "\n",
       "    .dataframe tbody tr th {\n",
       "        vertical-align: top;\n",
       "    }\n",
       "\n",
       "    .dataframe thead th {\n",
       "        text-align: right;\n",
       "    }\n",
       "</style>\n",
       "<table border=\"1\" class=\"dataframe\">\n",
       "  <thead>\n",
       "    <tr style=\"text-align: right;\">\n",
       "      <th></th>\n",
       "      <th>customer_id</th>\n",
       "      <th>postcode</th>\n",
       "      <th>property_valuation</th>\n",
       "    </tr>\n",
       "  </thead>\n",
       "  <tbody>\n",
       "    <tr>\n",
       "      <th>count</th>\n",
       "      <td>3999.000000</td>\n",
       "      <td>3999.000000</td>\n",
       "      <td>3999.000000</td>\n",
       "    </tr>\n",
       "    <tr>\n",
       "      <th>mean</th>\n",
       "      <td>2003.987997</td>\n",
       "      <td>2985.755939</td>\n",
       "      <td>7.514379</td>\n",
       "    </tr>\n",
       "    <tr>\n",
       "      <th>std</th>\n",
       "      <td>1154.576912</td>\n",
       "      <td>844.878364</td>\n",
       "      <td>2.824663</td>\n",
       "    </tr>\n",
       "    <tr>\n",
       "      <th>min</th>\n",
       "      <td>1.000000</td>\n",
       "      <td>2000.000000</td>\n",
       "      <td>1.000000</td>\n",
       "    </tr>\n",
       "    <tr>\n",
       "      <th>25%</th>\n",
       "      <td>1004.500000</td>\n",
       "      <td>2200.000000</td>\n",
       "      <td>6.000000</td>\n",
       "    </tr>\n",
       "    <tr>\n",
       "      <th>50%</th>\n",
       "      <td>2004.000000</td>\n",
       "      <td>2768.000000</td>\n",
       "      <td>8.000000</td>\n",
       "    </tr>\n",
       "    <tr>\n",
       "      <th>75%</th>\n",
       "      <td>3003.500000</td>\n",
       "      <td>3750.000000</td>\n",
       "      <td>10.000000</td>\n",
       "    </tr>\n",
       "    <tr>\n",
       "      <th>max</th>\n",
       "      <td>4003.000000</td>\n",
       "      <td>4883.000000</td>\n",
       "      <td>12.000000</td>\n",
       "    </tr>\n",
       "  </tbody>\n",
       "</table>\n",
       "</div>"
      ],
      "text/plain": [
       "       customer_id     postcode  property_valuation\n",
       "count  3999.000000  3999.000000         3999.000000\n",
       "mean   2003.987997  2985.755939            7.514379\n",
       "std    1154.576912   844.878364            2.824663\n",
       "min       1.000000  2000.000000            1.000000\n",
       "25%    1004.500000  2200.000000            6.000000\n",
       "50%    2004.000000  2768.000000            8.000000\n",
       "75%    3003.500000  3750.000000           10.000000\n",
       "max    4003.000000  4883.000000           12.000000"
      ]
     },
     "execution_count": 32,
     "metadata": {},
     "output_type": "execute_result"
    }
   ],
   "source": [
    "CustomerAddress.describe()"
   ]
  },
  {
   "cell_type": "code",
   "execution_count": 33,
   "id": "8991b8ec",
   "metadata": {},
   "outputs": [
    {
     "data": {
      "text/plain": [
       "customer_id           0\n",
       "address               0\n",
       "postcode              0\n",
       "state                 0\n",
       "country               0\n",
       "property_valuation    0\n",
       "dtype: int64"
      ]
     },
     "execution_count": 33,
     "metadata": {},
     "output_type": "execute_result"
    }
   ],
   "source": [
    "CustomerAddress.isna().sum()"
   ]
  },
  {
   "cell_type": "code",
   "execution_count": 34,
   "id": "b89b9086",
   "metadata": {},
   "outputs": [
    {
     "data": {
      "text/plain": [
       "0"
      ]
     },
     "execution_count": 34,
     "metadata": {},
     "output_type": "execute_result"
    }
   ],
   "source": [
    "CustomerAddress.duplicated().sum()"
   ]
  },
  {
   "cell_type": "markdown",
   "id": "03cd8f43",
   "metadata": {},
   "source": [
    "## DATA PRESENTATION DATA EXPLORATION"
   ]
  },
  {
   "cell_type": "markdown",
   "id": "5c6f499a",
   "metadata": {},
   "source": [
    "### DATA EXPLORATION"
   ]
  },
  {
   "cell_type": "code",
   "execution_count": 35,
   "id": "07a263ca",
   "metadata": {},
   "outputs": [
    {
     "data": {
      "text/plain": [
       "Index(['transaction_id', 'product_id', 'customer_id', 'transaction_date',\n",
       "       'online_order', 'order_status', 'brand', 'product_line',\n",
       "       'product_class', 'product_size', 'list_price', 'standard_cost',\n",
       "       'product_first_sold_date', 'Profit'],\n",
       "      dtype='object')"
      ]
     },
     "execution_count": 35,
     "metadata": {},
     "output_type": "execute_result"
    }
   ],
   "source": [
    "Transactions.columns"
   ]
  },
  {
   "cell_type": "code",
   "execution_count": 36,
   "id": "90b8ccdf",
   "metadata": {},
   "outputs": [
    {
     "data": {
      "text/plain": [
       "Index(['customer_id', 'first_name', 'last_name', 'gender',\n",
       "       'past_3_years_bike_related_purchases', 'DOB', 'job_title',\n",
       "       'job_industry_category', 'wealth_segment', 'deceased_indicator',\n",
       "       'owns_car', 'tenure'],\n",
       "      dtype='object')"
      ]
     },
     "execution_count": 36,
     "metadata": {},
     "output_type": "execute_result"
    }
   ],
   "source": [
    "CustomerDemographic.columns"
   ]
  },
  {
   "cell_type": "code",
   "execution_count": 37,
   "id": "216806a8",
   "metadata": {},
   "outputs": [
    {
     "data": {
      "text/plain": [
       "Index(['first_name', 'last_name', 'gender',\n",
       "       'past_3_years_bike_related_purchases', 'DOB', 'job_title',\n",
       "       'job_industry_category', 'wealth_segment', 'deceased_indicator',\n",
       "       'owns_car', 'tenure', 'address', 'postcode', 'state', 'country',\n",
       "       'property_valuation', 'Rank', 'Value'],\n",
       "      dtype='object')"
      ]
     },
     "execution_count": 37,
     "metadata": {},
     "output_type": "execute_result"
    }
   ],
   "source": [
    "NewCustomerList.columns"
   ]
  },
  {
   "cell_type": "code",
   "execution_count": 38,
   "id": "971661f2",
   "metadata": {},
   "outputs": [],
   "source": [
    "# New_Demographic= pd.merge(CustomerDemographic, NewCustomerList, on=['gender', \n",
    "#                                                                     'past_3_years_bike_related_purchases',\n",
    "#                                                                     'DOB',\n",
    "#                                                                     'job_title',\n",
    "#                                                                     'job_industry_category',\n",
    "#                                                                     'wealth_segment',\n",
    "#                                                                     'deceased_indicator',\n",
    "#                                                                     'owns_car'])\n",
    "\n",
    "# CODE WONT WORK CAUSE YOU NEED TO DROP THE NULL VALUES"
   ]
  },
  {
   "cell_type": "code",
   "execution_count": 39,
   "id": "1eab5ade",
   "metadata": {},
   "outputs": [],
   "source": [
    "New_Demographic= pd.merge(CustomerDemographic, NewCustomerList, how=\"outer\")\n",
    "                                                                                                       "
   ]
  },
  {
   "cell_type": "code",
   "execution_count": 40,
   "id": "b0c527ac",
   "metadata": {},
   "outputs": [
    {
     "name": "stdout",
     "output_type": "stream",
     "text": [
      "(4000, 12)\n",
      "(1000, 18)\n",
      "(5000, 19)\n"
     ]
    }
   ],
   "source": [
    "print(CustomerDemographic.shape)\n",
    "print(NewCustomerList.shape)\n",
    "print(New_Demographic.shape)"
   ]
  },
  {
   "cell_type": "code",
   "execution_count": 41,
   "id": "7e9b413b",
   "metadata": {},
   "outputs": [],
   "source": [
    "New_Transactions= pd.merge(Transactions, New_Demographic, on= \"customer_id\")"
   ]
  },
  {
   "cell_type": "code",
   "execution_count": 42,
   "id": "711ebb91",
   "metadata": {
    "scrolled": true
   },
   "outputs": [
    {
     "name": "stdout",
     "output_type": "stream",
     "text": [
      "<class 'pandas.core.frame.DataFrame'>\n",
      "Int64Index: 19997 entries, 0 to 19996\n",
      "Data columns (total 32 columns):\n",
      " #   Column                               Non-Null Count  Dtype         \n",
      "---  ------                               --------------  -----         \n",
      " 0   transaction_id                       19997 non-null  int64         \n",
      " 1   product_id                           19997 non-null  int64         \n",
      " 2   customer_id                          19997 non-null  int64         \n",
      " 3   transaction_date                     19997 non-null  datetime64[ns]\n",
      " 4   online_order                         19637 non-null  float64       \n",
      " 5   order_status                         19997 non-null  object        \n",
      " 6   brand                                19800 non-null  object        \n",
      " 7   product_line                         19800 non-null  object        \n",
      " 8   product_class                        19800 non-null  object        \n",
      " 9   product_size                         19800 non-null  object        \n",
      " 10  list_price                           19997 non-null  float64       \n",
      " 11  standard_cost                        19800 non-null  float64       \n",
      " 12  product_first_sold_date              19800 non-null  object        \n",
      " 13  Profit                               19800 non-null  float64       \n",
      " 14  first_name                           19997 non-null  object        \n",
      " 15  last_name                            19355 non-null  object        \n",
      " 16  gender                               19997 non-null  object        \n",
      " 17  past_3_years_bike_related_purchases  19997 non-null  int64         \n",
      " 18  DOB                                  19551 non-null  datetime64[ns]\n",
      " 19  job_title                            17603 non-null  object        \n",
      " 20  job_industry_category                16768 non-null  object        \n",
      " 21  wealth_segment                       19997 non-null  object        \n",
      " 22  deceased_indicator                   19997 non-null  object        \n",
      " 23  owns_car                             19997 non-null  object        \n",
      " 24  tenure                               19551 non-null  float64       \n",
      " 25  address                              0 non-null      object        \n",
      " 26  postcode                             0 non-null      float64       \n",
      " 27  state                                0 non-null      object        \n",
      " 28  country                              0 non-null      object        \n",
      " 29  property_valuation                   0 non-null      float64       \n",
      " 30  Rank                                 0 non-null      float64       \n",
      " 31  Value                                0 non-null      float64       \n",
      "dtypes: datetime64[ns](2), float64(9), int64(4), object(17)\n",
      "memory usage: 5.0+ MB\n"
     ]
    }
   ],
   "source": [
    "New_Transactions.info()"
   ]
  },
  {
   "cell_type": "code",
   "execution_count": 43,
   "id": "34654da2",
   "metadata": {},
   "outputs": [],
   "source": [
    "New_Transactions[\"transaction_date\"]= New_Transactions[\"transaction_date\"].sort_values(ascending=True)"
   ]
  },
  {
   "cell_type": "code",
   "execution_count": 44,
   "id": "c8c21bf4",
   "metadata": {},
   "outputs": [],
   "source": [
    "New_Transactions[\"Recency\"]= New_Transactions[\"transaction_date\"].max()-New_Transactions[\"transaction_date\"].sort_values(ascending=False)"
   ]
  },
  {
   "cell_type": "code",
   "execution_count": 45,
   "id": "c672ce67",
   "metadata": {},
   "outputs": [],
   "source": [
    "New_Transactions[\"Recency\"]= New_Transactions[\"Recency\"].dt.days"
   ]
  },
  {
   "cell_type": "code",
   "execution_count": 46,
   "id": "baa55b62",
   "metadata": {
    "collapsed": true
   },
   "outputs": [
    {
     "name": "stdout",
     "output_type": "stream",
     "text": [
      "<class 'pandas.core.frame.DataFrame'>\n",
      "Int64Index: 19997 entries, 0 to 19996\n",
      "Data columns (total 33 columns):\n",
      " #   Column                               Non-Null Count  Dtype         \n",
      "---  ------                               --------------  -----         \n",
      " 0   transaction_id                       19997 non-null  int64         \n",
      " 1   product_id                           19997 non-null  int64         \n",
      " 2   customer_id                          19997 non-null  int64         \n",
      " 3   transaction_date                     19997 non-null  datetime64[ns]\n",
      " 4   online_order                         19637 non-null  float64       \n",
      " 5   order_status                         19997 non-null  object        \n",
      " 6   brand                                19800 non-null  object        \n",
      " 7   product_line                         19800 non-null  object        \n",
      " 8   product_class                        19800 non-null  object        \n",
      " 9   product_size                         19800 non-null  object        \n",
      " 10  list_price                           19997 non-null  float64       \n",
      " 11  standard_cost                        19800 non-null  float64       \n",
      " 12  product_first_sold_date              19800 non-null  object        \n",
      " 13  Profit                               19800 non-null  float64       \n",
      " 14  first_name                           19997 non-null  object        \n",
      " 15  last_name                            19355 non-null  object        \n",
      " 16  gender                               19997 non-null  object        \n",
      " 17  past_3_years_bike_related_purchases  19997 non-null  int64         \n",
      " 18  DOB                                  19551 non-null  datetime64[ns]\n",
      " 19  job_title                            17603 non-null  object        \n",
      " 20  job_industry_category                16768 non-null  object        \n",
      " 21  wealth_segment                       19997 non-null  object        \n",
      " 22  deceased_indicator                   19997 non-null  object        \n",
      " 23  owns_car                             19997 non-null  object        \n",
      " 24  tenure                               19551 non-null  float64       \n",
      " 25  address                              0 non-null      object        \n",
      " 26  postcode                             0 non-null      float64       \n",
      " 27  state                                0 non-null      object        \n",
      " 28  country                              0 non-null      object        \n",
      " 29  property_valuation                   0 non-null      float64       \n",
      " 30  Rank                                 0 non-null      float64       \n",
      " 31  Value                                0 non-null      float64       \n",
      " 32  Recency                              19997 non-null  int64         \n",
      "dtypes: datetime64[ns](2), float64(9), int64(5), object(17)\n",
      "memory usage: 5.2+ MB\n"
     ]
    }
   ],
   "source": [
    "New_Transactions.info()"
   ]
  },
  {
   "cell_type": "code",
   "execution_count": 47,
   "id": "3de6b762",
   "metadata": {},
   "outputs": [],
   "source": [
    "pivot= pd.pivot_table(New_Transactions, values=[\"Recency\",\"transaction_id\", \"Profit\"], index=[\"customer_id\"], aggfunc={'Recency': np.min,\n",
    "                                                                                                            'transaction_id': len,\n",
    "                                                                                                            'Profit': np.sum})\n",
    "\n",
    "pivot.rename(columns={\n",
    "    \"transaction_id\":\"Frequency\",\n",
    "    \"Profit\":\"MonetaryValue\"}, inplace=True)"
   ]
  },
  {
   "cell_type": "code",
   "execution_count": 48,
   "id": "ebaf8304",
   "metadata": {
    "collapsed": true
   },
   "outputs": [
    {
     "data": {
      "text/html": [
       "<div>\n",
       "<style scoped>\n",
       "    .dataframe tbody tr th:only-of-type {\n",
       "        vertical-align: middle;\n",
       "    }\n",
       "\n",
       "    .dataframe tbody tr th {\n",
       "        vertical-align: top;\n",
       "    }\n",
       "\n",
       "    .dataframe thead th {\n",
       "        text-align: right;\n",
       "    }\n",
       "</style>\n",
       "<table border=\"1\" class=\"dataframe\">\n",
       "  <thead>\n",
       "    <tr style=\"text-align: right;\">\n",
       "      <th></th>\n",
       "      <th>MonetaryValue</th>\n",
       "      <th>Recency</th>\n",
       "      <th>Frequency</th>\n",
       "    </tr>\n",
       "  </thead>\n",
       "  <tbody>\n",
       "    <tr>\n",
       "      <th>count</th>\n",
       "      <td>3493.000000</td>\n",
       "      <td>3493.000000</td>\n",
       "      <td>3493.000000</td>\n",
       "    </tr>\n",
       "    <tr>\n",
       "      <th>mean</th>\n",
       "      <td>3129.119519</td>\n",
       "      <td>60.807043</td>\n",
       "      <td>5.724878</td>\n",
       "    </tr>\n",
       "    <tr>\n",
       "      <th>std</th>\n",
       "      <td>1770.128368</td>\n",
       "      <td>57.794061</td>\n",
       "      <td>2.325749</td>\n",
       "    </tr>\n",
       "    <tr>\n",
       "      <th>min</th>\n",
       "      <td>15.080000</td>\n",
       "      <td>0.000000</td>\n",
       "      <td>1.000000</td>\n",
       "    </tr>\n",
       "    <tr>\n",
       "      <th>25%</th>\n",
       "      <td>1841.730000</td>\n",
       "      <td>17.000000</td>\n",
       "      <td>4.000000</td>\n",
       "    </tr>\n",
       "    <tr>\n",
       "      <th>50%</th>\n",
       "      <td>2862.330000</td>\n",
       "      <td>44.000000</td>\n",
       "      <td>6.000000</td>\n",
       "    </tr>\n",
       "    <tr>\n",
       "      <th>75%</th>\n",
       "      <td>4183.810000</td>\n",
       "      <td>85.000000</td>\n",
       "      <td>7.000000</td>\n",
       "    </tr>\n",
       "    <tr>\n",
       "      <th>max</th>\n",
       "      <td>11668.950000</td>\n",
       "      <td>353.000000</td>\n",
       "      <td>14.000000</td>\n",
       "    </tr>\n",
       "  </tbody>\n",
       "</table>\n",
       "</div>"
      ],
      "text/plain": [
       "       MonetaryValue      Recency    Frequency\n",
       "count    3493.000000  3493.000000  3493.000000\n",
       "mean     3129.119519    60.807043     5.724878\n",
       "std      1770.128368    57.794061     2.325749\n",
       "min        15.080000     0.000000     1.000000\n",
       "25%      1841.730000    17.000000     4.000000\n",
       "50%      2862.330000    44.000000     6.000000\n",
       "75%      4183.810000    85.000000     7.000000\n",
       "max     11668.950000   353.000000    14.000000"
      ]
     },
     "execution_count": 48,
     "metadata": {},
     "output_type": "execute_result"
    }
   ],
   "source": [
    "pivot.describe()"
   ]
  },
  {
   "cell_type": "code",
   "execution_count": 49,
   "id": "7f041424",
   "metadata": {
    "scrolled": true
   },
   "outputs": [],
   "source": [
    "# Define a function to calculate customer title based on RFM values\n",
    "# def customer_title(r, f, m):\n",
    "#     if r <= 60 and f >= 9 and m >= 4000:\n",
    "#         return 'Gold'\n",
    "#     elif r <= 60 and f >= 5 and m >= 3000:\n",
    "#         return 'Silver'\n",
    "#     else:\n",
    "#         return 'Bronze'\n",
    "\n",
    "# # Create the customer title column in rfm using the customer_title function\n",
    "# pivot['Customer Title'] = pivot.apply(lambda row: customer_title(row['Recency'], row['Frequency'], row['MonetaryValue']), axis=1)"
   ]
  },
  {
   "cell_type": "code",
   "execution_count": 50,
   "id": "acb3f547",
   "metadata": {},
   "outputs": [],
   "source": [
    "# Step 2: Rank the customers by their Recency, Frequency, and MonetaryValue, and assign a score from 1 to 5 for each category\n",
    "pivot['R'] = pd.qcut(pivot['Recency'], 5, labels=[5, 4, 3, 2, 1])\n",
    "pivot['F'] = pd.qcut(pivot['Frequency'], 5, labels=[1, 2, 3, 4, 5])\n",
    "pivot['M'] = pd.qcut(pivot['MonetaryValue'], 5, labels=[1, 2, 3, 4, 5])\n",
    "\n",
    "# Step 3: Concatenate the three scores to create the RFM score\n",
    "pivot['RFM Score'] = pivot['R'].astype(str) + pivot['F'].astype(str) + pivot['M'].astype(str)\n",
    "\n"
   ]
  },
  {
   "cell_type": "code",
   "execution_count": 51,
   "id": "06c91538",
   "metadata": {},
   "outputs": [
    {
     "data": {
      "text/html": [
       "<div>\n",
       "<style scoped>\n",
       "    .dataframe tbody tr th:only-of-type {\n",
       "        vertical-align: middle;\n",
       "    }\n",
       "\n",
       "    .dataframe tbody tr th {\n",
       "        vertical-align: top;\n",
       "    }\n",
       "\n",
       "    .dataframe thead th {\n",
       "        text-align: right;\n",
       "    }\n",
       "</style>\n",
       "<table border=\"1\" class=\"dataframe\">\n",
       "  <thead>\n",
       "    <tr style=\"text-align: right;\">\n",
       "      <th></th>\n",
       "      <th>MonetaryValue</th>\n",
       "      <th>Recency</th>\n",
       "      <th>Frequency</th>\n",
       "      <th>R</th>\n",
       "      <th>F</th>\n",
       "      <th>M</th>\n",
       "      <th>RFM Score</th>\n",
       "    </tr>\n",
       "    <tr>\n",
       "      <th>customer_id</th>\n",
       "      <th></th>\n",
       "      <th></th>\n",
       "      <th></th>\n",
       "      <th></th>\n",
       "      <th></th>\n",
       "      <th></th>\n",
       "      <th></th>\n",
       "    </tr>\n",
       "  </thead>\n",
       "  <tbody>\n",
       "    <tr>\n",
       "      <th>1</th>\n",
       "      <td>3018.09</td>\n",
       "      <td>7</td>\n",
       "      <td>11</td>\n",
       "      <td>5</td>\n",
       "      <td>5</td>\n",
       "      <td>3</td>\n",
       "      <td>553</td>\n",
       "    </tr>\n",
       "    <tr>\n",
       "      <th>2</th>\n",
       "      <td>2226.26</td>\n",
       "      <td>128</td>\n",
       "      <td>3</td>\n",
       "      <td>1</td>\n",
       "      <td>1</td>\n",
       "      <td>2</td>\n",
       "      <td>112</td>\n",
       "    </tr>\n",
       "    <tr>\n",
       "      <th>3</th>\n",
       "      <td>3362.81</td>\n",
       "      <td>102</td>\n",
       "      <td>8</td>\n",
       "      <td>1</td>\n",
       "      <td>4</td>\n",
       "      <td>4</td>\n",
       "      <td>144</td>\n",
       "    </tr>\n",
       "    <tr>\n",
       "      <th>4</th>\n",
       "      <td>220.57</td>\n",
       "      <td>195</td>\n",
       "      <td>2</td>\n",
       "      <td>1</td>\n",
       "      <td>1</td>\n",
       "      <td>1</td>\n",
       "      <td>111</td>\n",
       "    </tr>\n",
       "    <tr>\n",
       "      <th>5</th>\n",
       "      <td>2394.94</td>\n",
       "      <td>16</td>\n",
       "      <td>6</td>\n",
       "      <td>4</td>\n",
       "      <td>3</td>\n",
       "      <td>2</td>\n",
       "      <td>432</td>\n",
       "    </tr>\n",
       "    <tr>\n",
       "      <th>...</th>\n",
       "      <td>...</td>\n",
       "      <td>...</td>\n",
       "      <td>...</td>\n",
       "      <td>...</td>\n",
       "      <td>...</td>\n",
       "      <td>...</td>\n",
       "      <td>...</td>\n",
       "    </tr>\n",
       "    <tr>\n",
       "      <th>96</th>\n",
       "      <td>1135.25</td>\n",
       "      <td>70</td>\n",
       "      <td>4</td>\n",
       "      <td>2</td>\n",
       "      <td>1</td>\n",
       "      <td>1</td>\n",
       "      <td>211</td>\n",
       "    </tr>\n",
       "    <tr>\n",
       "      <th>97</th>\n",
       "      <td>4911.21</td>\n",
       "      <td>102</td>\n",
       "      <td>8</td>\n",
       "      <td>1</td>\n",
       "      <td>4</td>\n",
       "      <td>5</td>\n",
       "      <td>145</td>\n",
       "    </tr>\n",
       "    <tr>\n",
       "      <th>98</th>\n",
       "      <td>1930.56</td>\n",
       "      <td>122</td>\n",
       "      <td>5</td>\n",
       "      <td>1</td>\n",
       "      <td>2</td>\n",
       "      <td>2</td>\n",
       "      <td>122</td>\n",
       "    </tr>\n",
       "    <tr>\n",
       "      <th>99</th>\n",
       "      <td>4557.65</td>\n",
       "      <td>2</td>\n",
       "      <td>9</td>\n",
       "      <td>5</td>\n",
       "      <td>5</td>\n",
       "      <td>4</td>\n",
       "      <td>554</td>\n",
       "    </tr>\n",
       "    <tr>\n",
       "      <th>100</th>\n",
       "      <td>877.40</td>\n",
       "      <td>11</td>\n",
       "      <td>2</td>\n",
       "      <td>5</td>\n",
       "      <td>1</td>\n",
       "      <td>1</td>\n",
       "      <td>511</td>\n",
       "    </tr>\n",
       "  </tbody>\n",
       "</table>\n",
       "<p>100 rows × 7 columns</p>\n",
       "</div>"
      ],
      "text/plain": [
       "             MonetaryValue  Recency  Frequency  R  F  M RFM Score\n",
       "customer_id                                                      \n",
       "1                  3018.09        7         11  5  5  3       553\n",
       "2                  2226.26      128          3  1  1  2       112\n",
       "3                  3362.81      102          8  1  4  4       144\n",
       "4                   220.57      195          2  1  1  1       111\n",
       "5                  2394.94       16          6  4  3  2       432\n",
       "...                    ...      ...        ... .. .. ..       ...\n",
       "96                 1135.25       70          4  2  1  1       211\n",
       "97                 4911.21      102          8  1  4  5       145\n",
       "98                 1930.56      122          5  1  2  2       122\n",
       "99                 4557.65        2          9  5  5  4       554\n",
       "100                 877.40       11          2  5  1  1       511\n",
       "\n",
       "[100 rows x 7 columns]"
      ]
     },
     "execution_count": 51,
     "metadata": {},
     "output_type": "execute_result"
    }
   ],
   "source": [
    "pivot.head(100)"
   ]
  },
  {
   "cell_type": "code",
   "execution_count": 52,
   "id": "31c0ed4d",
   "metadata": {},
   "outputs": [],
   "source": [
    "# Define a function to calculate customer title based on RFM values\n",
    "pivot[\"RFM Score\"]= pivot[\"RFM Score\"].astype(int)\n",
    "def customer_title(row):\n",
    "    if row[\"RFM Score\"] > 411:\n",
    "        return 'Platinum'\n",
    "    elif row[\"RFM Score\"] <= 411 and row[\"RFM Score\"] > 311:\n",
    "        return 'Gold'\n",
    "    elif row[\"RFM Score\"] <= 311 and row[\"RFM Score\"] > 211:\n",
    "        return 'Silver'\n",
    "    else:\n",
    "        return 'Bronze'\n",
    "\n",
    "# Create the customer title column in rfm using the customer_title function\n",
    "pivot['Customer Title'] = pivot.apply(customer_title, axis=1)"
   ]
  },
  {
   "cell_type": "code",
   "execution_count": 53,
   "id": "213cb4e2",
   "metadata": {},
   "outputs": [
    {
     "data": {
      "text/html": [
       "<div>\n",
       "<style scoped>\n",
       "    .dataframe tbody tr th:only-of-type {\n",
       "        vertical-align: middle;\n",
       "    }\n",
       "\n",
       "    .dataframe tbody tr th {\n",
       "        vertical-align: top;\n",
       "    }\n",
       "\n",
       "    .dataframe thead th {\n",
       "        text-align: right;\n",
       "    }\n",
       "</style>\n",
       "<table border=\"1\" class=\"dataframe\">\n",
       "  <thead>\n",
       "    <tr style=\"text-align: right;\">\n",
       "      <th></th>\n",
       "      <th>MonetaryValue</th>\n",
       "      <th>Recency</th>\n",
       "      <th>Frequency</th>\n",
       "      <th>R</th>\n",
       "      <th>F</th>\n",
       "      <th>M</th>\n",
       "      <th>RFM Score</th>\n",
       "      <th>Customer Title</th>\n",
       "    </tr>\n",
       "    <tr>\n",
       "      <th>customer_id</th>\n",
       "      <th></th>\n",
       "      <th></th>\n",
       "      <th></th>\n",
       "      <th></th>\n",
       "      <th></th>\n",
       "      <th></th>\n",
       "      <th></th>\n",
       "      <th></th>\n",
       "    </tr>\n",
       "  </thead>\n",
       "  <tbody>\n",
       "    <tr>\n",
       "      <th>1</th>\n",
       "      <td>3018.09</td>\n",
       "      <td>7</td>\n",
       "      <td>11</td>\n",
       "      <td>5</td>\n",
       "      <td>5</td>\n",
       "      <td>3</td>\n",
       "      <td>553</td>\n",
       "      <td>Platinum</td>\n",
       "    </tr>\n",
       "    <tr>\n",
       "      <th>2</th>\n",
       "      <td>2226.26</td>\n",
       "      <td>128</td>\n",
       "      <td>3</td>\n",
       "      <td>1</td>\n",
       "      <td>1</td>\n",
       "      <td>2</td>\n",
       "      <td>112</td>\n",
       "      <td>Bronze</td>\n",
       "    </tr>\n",
       "    <tr>\n",
       "      <th>3</th>\n",
       "      <td>3362.81</td>\n",
       "      <td>102</td>\n",
       "      <td>8</td>\n",
       "      <td>1</td>\n",
       "      <td>4</td>\n",
       "      <td>4</td>\n",
       "      <td>144</td>\n",
       "      <td>Bronze</td>\n",
       "    </tr>\n",
       "    <tr>\n",
       "      <th>4</th>\n",
       "      <td>220.57</td>\n",
       "      <td>195</td>\n",
       "      <td>2</td>\n",
       "      <td>1</td>\n",
       "      <td>1</td>\n",
       "      <td>1</td>\n",
       "      <td>111</td>\n",
       "      <td>Bronze</td>\n",
       "    </tr>\n",
       "    <tr>\n",
       "      <th>5</th>\n",
       "      <td>2394.94</td>\n",
       "      <td>16</td>\n",
       "      <td>6</td>\n",
       "      <td>4</td>\n",
       "      <td>3</td>\n",
       "      <td>2</td>\n",
       "      <td>432</td>\n",
       "      <td>Platinum</td>\n",
       "    </tr>\n",
       "    <tr>\n",
       "      <th>...</th>\n",
       "      <td>...</td>\n",
       "      <td>...</td>\n",
       "      <td>...</td>\n",
       "      <td>...</td>\n",
       "      <td>...</td>\n",
       "      <td>...</td>\n",
       "      <td>...</td>\n",
       "      <td>...</td>\n",
       "    </tr>\n",
       "    <tr>\n",
       "      <th>3496</th>\n",
       "      <td>2045.84</td>\n",
       "      <td>256</td>\n",
       "      <td>4</td>\n",
       "      <td>1</td>\n",
       "      <td>1</td>\n",
       "      <td>2</td>\n",
       "      <td>112</td>\n",
       "      <td>Bronze</td>\n",
       "    </tr>\n",
       "    <tr>\n",
       "      <th>3497</th>\n",
       "      <td>1648.32</td>\n",
       "      <td>52</td>\n",
       "      <td>3</td>\n",
       "      <td>3</td>\n",
       "      <td>1</td>\n",
       "      <td>2</td>\n",
       "      <td>312</td>\n",
       "      <td>Gold</td>\n",
       "    </tr>\n",
       "    <tr>\n",
       "      <th>3498</th>\n",
       "      <td>3147.33</td>\n",
       "      <td>127</td>\n",
       "      <td>6</td>\n",
       "      <td>1</td>\n",
       "      <td>3</td>\n",
       "      <td>3</td>\n",
       "      <td>133</td>\n",
       "      <td>Bronze</td>\n",
       "    </tr>\n",
       "    <tr>\n",
       "      <th>3499</th>\n",
       "      <td>4955.25</td>\n",
       "      <td>51</td>\n",
       "      <td>7</td>\n",
       "      <td>3</td>\n",
       "      <td>4</td>\n",
       "      <td>5</td>\n",
       "      <td>345</td>\n",
       "      <td>Gold</td>\n",
       "    </tr>\n",
       "    <tr>\n",
       "      <th>3500</th>\n",
       "      <td>1785.86</td>\n",
       "      <td>144</td>\n",
       "      <td>6</td>\n",
       "      <td>1</td>\n",
       "      <td>3</td>\n",
       "      <td>2</td>\n",
       "      <td>132</td>\n",
       "      <td>Bronze</td>\n",
       "    </tr>\n",
       "  </tbody>\n",
       "</table>\n",
       "<p>3493 rows × 8 columns</p>\n",
       "</div>"
      ],
      "text/plain": [
       "             MonetaryValue  Recency  Frequency  R  F  M  RFM Score  \\\n",
       "customer_id                                                          \n",
       "1                  3018.09        7         11  5  5  3        553   \n",
       "2                  2226.26      128          3  1  1  2        112   \n",
       "3                  3362.81      102          8  1  4  4        144   \n",
       "4                   220.57      195          2  1  1  1        111   \n",
       "5                  2394.94       16          6  4  3  2        432   \n",
       "...                    ...      ...        ... .. .. ..        ...   \n",
       "3496               2045.84      256          4  1  1  2        112   \n",
       "3497               1648.32       52          3  3  1  2        312   \n",
       "3498               3147.33      127          6  1  3  3        133   \n",
       "3499               4955.25       51          7  3  4  5        345   \n",
       "3500               1785.86      144          6  1  3  2        132   \n",
       "\n",
       "            Customer Title  \n",
       "customer_id                 \n",
       "1                 Platinum  \n",
       "2                   Bronze  \n",
       "3                   Bronze  \n",
       "4                   Bronze  \n",
       "5                 Platinum  \n",
       "...                    ...  \n",
       "3496                Bronze  \n",
       "3497                  Gold  \n",
       "3498                Bronze  \n",
       "3499                  Gold  \n",
       "3500                Bronze  \n",
       "\n",
       "[3493 rows x 8 columns]"
      ]
     },
     "execution_count": 53,
     "metadata": {},
     "output_type": "execute_result"
    }
   ],
   "source": [
    "pivot"
   ]
  },
  {
   "cell_type": "code",
   "execution_count": 54,
   "id": "83a5ebb4",
   "metadata": {},
   "outputs": [
    {
     "data": {
      "image/png": "[encoded data removed]",
      "text/plain": [
       "<Figure size 576x396 with 1 Axes>"
      ]
     },
     "metadata": {},
     "output_type": "display_data"
    }
   ],
   "source": [
    "segementation = pivot[\"Customer Title\"].value_counts().sort_values(ascending=True)\n",
    "\n",
    "plt.style.use(\"seaborn\")\n",
    "\n",
    "ax= segementation.plot.barh()\n",
    "\n",
    "plt.title(\"Customer Segementation according to RFM values\")\n",
    "plt.xlabel(\"Total number of Customers\")\n",
    "plt.ylabel(\"Customer Title\")\n",
    "\n",
    "plt.tight_layout()\n",
    "\n",
    "for container in ax.containers:\n",
    "    ax.bar_label(container)\n",
    "\n",
    "plt.savefig(\"RFM_score.png\")\n",
    "plt.show()"
   ]
  },
  {
   "cell_type": "code",
   "execution_count": 97,
   "id": "be037caf",
   "metadata": {},
   "outputs": [
    {
     "data": {
      "image/png": "[encoded data removed]",
      "text/plain": [
       "<Figure size 576x396 with 1 Axes>"
      ]
     },
     "metadata": {},
     "output_type": "display_data"
    }
   ],
   "source": [
    "plt.scatter(pivot[\"Recency\"], pivot[\"MonetaryValue\"], color= \"c\", alpha=0.75, edgecolors=\"black\")\n",
    "\n",
    "plt.title(\"Scatter plot of Recency vs MonetaryValue\")\n",
    "plt.xlabel(\"Recency\")\n",
    "plt.ylabel(\"MonetaryValue\")\n",
    "\n",
    "plt.savefig(\"Scatter Recency vs MonetaryValue\")\n",
    "plt.show()"
   ]
  },
  {
   "cell_type": "code",
   "execution_count": 98,
   "id": "7a608900",
   "metadata": {},
   "outputs": [
    {
     "data": {
      "image/png": "[encoded data removed]",
      "text/plain": [
       "<Figure size 576x396 with 1 Axes>"
      ]
     },
     "metadata": {},
     "output_type": "display_data"
    }
   ],
   "source": [
    "plt.scatter(pivot[\"MonetaryValue\"], pivot[\"Frequency\"], color= \"r\", alpha=0.75, edgecolors=\"black\")\n",
    "\n",
    "plt.title(\"Scatter plot of MonetaryValue vs Frequency\")\n",
    "plt.xlabel(\"MonetaryValue\")\n",
    "plt.ylabel(\"Frequency\")\n",
    "\n",
    "plt.savefig(\"Scatter MonetaryValue vs Frequency\")\n",
    "plt.show()"
   ]
  },
  {
   "cell_type": "code",
   "execution_count": 55,
   "id": "b9249ccc",
   "metadata": {
    "scrolled": true
   },
   "outputs": [],
   "source": [
    "pivot.reset_index(inplace=True)\n",
    "C_T= pivot[[\"customer_id\",\"Customer Title\"]]"
   ]
  },
  {
   "cell_type": "code",
   "execution_count": 56,
   "id": "57160049",
   "metadata": {
    "collapsed": true
   },
   "outputs": [
    {
     "data": {
      "text/html": [
       "<div>\n",
       "<style scoped>\n",
       "    .dataframe tbody tr th:only-of-type {\n",
       "        vertical-align: middle;\n",
       "    }\n",
       "\n",
       "    .dataframe tbody tr th {\n",
       "        vertical-align: top;\n",
       "    }\n",
       "\n",
       "    .dataframe thead th {\n",
       "        text-align: right;\n",
       "    }\n",
       "</style>\n",
       "<table border=\"1\" class=\"dataframe\">\n",
       "  <thead>\n",
       "    <tr style=\"text-align: right;\">\n",
       "      <th></th>\n",
       "      <th>customer_id</th>\n",
       "      <th>Customer Title</th>\n",
       "    </tr>\n",
       "  </thead>\n",
       "  <tbody>\n",
       "    <tr>\n",
       "      <th>0</th>\n",
       "      <td>1</td>\n",
       "      <td>Platinum</td>\n",
       "    </tr>\n",
       "    <tr>\n",
       "      <th>1</th>\n",
       "      <td>2</td>\n",
       "      <td>Bronze</td>\n",
       "    </tr>\n",
       "    <tr>\n",
       "      <th>2</th>\n",
       "      <td>3</td>\n",
       "      <td>Bronze</td>\n",
       "    </tr>\n",
       "    <tr>\n",
       "      <th>3</th>\n",
       "      <td>4</td>\n",
       "      <td>Bronze</td>\n",
       "    </tr>\n",
       "    <tr>\n",
       "      <th>4</th>\n",
       "      <td>5</td>\n",
       "      <td>Platinum</td>\n",
       "    </tr>\n",
       "    <tr>\n",
       "      <th>...</th>\n",
       "      <td>...</td>\n",
       "      <td>...</td>\n",
       "    </tr>\n",
       "    <tr>\n",
       "      <th>3488</th>\n",
       "      <td>3496</td>\n",
       "      <td>Bronze</td>\n",
       "    </tr>\n",
       "    <tr>\n",
       "      <th>3489</th>\n",
       "      <td>3497</td>\n",
       "      <td>Gold</td>\n",
       "    </tr>\n",
       "    <tr>\n",
       "      <th>3490</th>\n",
       "      <td>3498</td>\n",
       "      <td>Bronze</td>\n",
       "    </tr>\n",
       "    <tr>\n",
       "      <th>3491</th>\n",
       "      <td>3499</td>\n",
       "      <td>Gold</td>\n",
       "    </tr>\n",
       "    <tr>\n",
       "      <th>3492</th>\n",
       "      <td>3500</td>\n",
       "      <td>Bronze</td>\n",
       "    </tr>\n",
       "  </tbody>\n",
       "</table>\n",
       "<p>3493 rows × 2 columns</p>\n",
       "</div>"
      ],
      "text/plain": [
       "      customer_id Customer Title\n",
       "0               1       Platinum\n",
       "1               2         Bronze\n",
       "2               3         Bronze\n",
       "3               4         Bronze\n",
       "4               5       Platinum\n",
       "...           ...            ...\n",
       "3488         3496         Bronze\n",
       "3489         3497           Gold\n",
       "3490         3498         Bronze\n",
       "3491         3499           Gold\n",
       "3492         3500         Bronze\n",
       "\n",
       "[3493 rows x 2 columns]"
      ]
     },
     "execution_count": 56,
     "metadata": {},
     "output_type": "execute_result"
    }
   ],
   "source": [
    "C_T"
   ]
  },
  {
   "cell_type": "code",
   "execution_count": 57,
   "id": "fe6c3b47",
   "metadata": {},
   "outputs": [
    {
     "data": {
      "text/plain": [
       "pandas.core.frame.DataFrame"
      ]
     },
     "execution_count": 57,
     "metadata": {},
     "output_type": "execute_result"
    }
   ],
   "source": [
    "type(C_T)\n",
    "# type(NewCustomerList)"
   ]
  },
  {
   "cell_type": "code",
   "execution_count": 58,
   "id": "ca2a1b87",
   "metadata": {},
   "outputs": [],
   "source": [
    "New_CustomerTitle= pd.merge(C_T, New_Transactions, on=\"customer_id\", how=\"inner\")"
   ]
  },
  {
   "cell_type": "code",
   "execution_count": 59,
   "id": "e4d65d2e",
   "metadata": {},
   "outputs": [
    {
     "data": {
      "text/plain": [
       "(19997, 34)"
      ]
     },
     "execution_count": 59,
     "metadata": {},
     "output_type": "execute_result"
    }
   ],
   "source": [
    "New_CustomerTitle.shape"
   ]
  },
  {
   "cell_type": "code",
   "execution_count": 60,
   "id": "f6d00757",
   "metadata": {
    "collapsed": true
   },
   "outputs": [
    {
     "data": {
      "text/plain": [
       "customer_id                                0\n",
       "Customer Title                             0\n",
       "transaction_id                             0\n",
       "product_id                                 0\n",
       "transaction_date                           0\n",
       "online_order                             360\n",
       "order_status                               0\n",
       "brand                                    197\n",
       "product_line                             197\n",
       "product_class                            197\n",
       "product_size                             197\n",
       "list_price                                 0\n",
       "standard_cost                            197\n",
       "product_first_sold_date                  197\n",
       "Profit                                   197\n",
       "first_name                                 0\n",
       "last_name                                642\n",
       "gender                                     0\n",
       "past_3_years_bike_related_purchases        0\n",
       "DOB                                      446\n",
       "job_title                               2394\n",
       "job_industry_category                   3229\n",
       "wealth_segment                             0\n",
       "deceased_indicator                         0\n",
       "owns_car                                   0\n",
       "tenure                                   446\n",
       "address                                19997\n",
       "postcode                               19997\n",
       "state                                  19997\n",
       "country                                19997\n",
       "property_valuation                     19997\n",
       "Rank                                   19997\n",
       "Value                                  19997\n",
       "Recency                                    0\n",
       "dtype: int64"
      ]
     },
     "execution_count": 60,
     "metadata": {},
     "output_type": "execute_result"
    }
   ],
   "source": [
    "New_CustomerTitle.isna().sum()"
   ]
  },
  {
   "cell_type": "code",
   "execution_count": 61,
   "id": "085fb36b",
   "metadata": {
    "scrolled": true
   },
   "outputs": [
    {
     "data": {
      "text/plain": [
       "0"
      ]
     },
     "execution_count": 61,
     "metadata": {},
     "output_type": "execute_result"
    }
   ],
   "source": [
    "New_CustomerTitle.duplicated().sum()"
   ]
  },
  {
   "cell_type": "markdown",
   "id": "bfe5751a",
   "metadata": {},
   "source": [
    "**VALUES FOR VISUALIZATION**\n",
    "- Wealth Segment\n",
    "- Owns car\n",
    "- Gender\n",
    "- Customer title\n",
    "- past_3_years_bike_related_purchases\n",
    "\n",
    "**with Na values**\n",
    "- brand \n",
    "- profit"
   ]
  },
  {
   "cell_type": "code",
   "execution_count": 62,
   "id": "97e94a07",
   "metadata": {},
   "outputs": [],
   "source": [
    "df= New_CustomerTitle.groupby(\"Customer Title\")[\"gender\"].value_counts().unstack()\n",
    "df.sort_values(by=[\"Female\",\"Male\",\"UnSpecified\"], ascending=True, inplace=True)"
   ]
  },
  {
   "cell_type": "code",
   "execution_count": 63,
   "id": "361ce006",
   "metadata": {},
   "outputs": [
    {
     "data": {
      "text/html": [
       "<div>\n",
       "<style scoped>\n",
       "    .dataframe tbody tr th:only-of-type {\n",
       "        vertical-align: middle;\n",
       "    }\n",
       "\n",
       "    .dataframe tbody tr th {\n",
       "        vertical-align: top;\n",
       "    }\n",
       "\n",
       "    .dataframe thead th {\n",
       "        text-align: right;\n",
       "    }\n",
       "</style>\n",
       "<table border=\"1\" class=\"dataframe\">\n",
       "  <thead>\n",
       "    <tr style=\"text-align: right;\">\n",
       "      <th>gender</th>\n",
       "      <th>Female</th>\n",
       "      <th>Male</th>\n",
       "      <th>UnSpecified</th>\n",
       "    </tr>\n",
       "    <tr>\n",
       "      <th>Customer Title</th>\n",
       "      <th></th>\n",
       "      <th></th>\n",
       "      <th></th>\n",
       "    </tr>\n",
       "  </thead>\n",
       "  <tbody>\n",
       "    <tr>\n",
       "      <th>Bronze</th>\n",
       "      <td>1664</td>\n",
       "      <td>1579</td>\n",
       "      <td>76</td>\n",
       "    </tr>\n",
       "    <tr>\n",
       "      <th>Silver</th>\n",
       "      <td>1844</td>\n",
       "      <td>1763</td>\n",
       "      <td>54</td>\n",
       "    </tr>\n",
       "    <tr>\n",
       "      <th>Gold</th>\n",
       "      <td>2178</td>\n",
       "      <td>1958</td>\n",
       "      <td>57</td>\n",
       "    </tr>\n",
       "    <tr>\n",
       "      <th>Platinum</th>\n",
       "      <td>4325</td>\n",
       "      <td>4231</td>\n",
       "      <td>268</td>\n",
       "    </tr>\n",
       "  </tbody>\n",
       "</table>\n",
       "</div>"
      ],
      "text/plain": [
       "gender          Female  Male  UnSpecified\n",
       "Customer Title                           \n",
       "Bronze            1664  1579           76\n",
       "Silver            1844  1763           54\n",
       "Gold              2178  1958           57\n",
       "Platinum          4325  4231          268"
      ]
     },
     "execution_count": 63,
     "metadata": {},
     "output_type": "execute_result"
    }
   ],
   "source": [
    "df"
   ]
  },
  {
   "cell_type": "code",
   "execution_count": 64,
   "id": "66843202",
   "metadata": {
    "scrolled": false
   },
   "outputs": [
    {
     "data": {
      "image/png": "[encoded data removed]",
      "text/plain": [
       "<Figure size 576x396 with 1 Axes>"
      ]
     },
     "metadata": {},
     "output_type": "display_data"
    }
   ],
   "source": [
    "plt.style.use('seaborn')\n",
    "ax= df.plot.barh(cmap=\"tab20\")\n",
    "\n",
    "plt.xlabel(\"Total number of Customers\")\n",
    "plt.ylabel(\"Customer Title\")\n",
    "plt.title(\"Segementation of gender according to title\")\n",
    "plt.legend(bbox_to_anchor=(1.3, 1))\n",
    "plt.tight_layout()\n",
    "\n",
    "\n",
    "plt.savefig(\"Gender vs Customer Title.png\")\n",
    "\n",
    "plt.show()"
   ]
  },
  {
   "cell_type": "code",
   "execution_count": 65,
   "id": "73435595",
   "metadata": {
    "collapsed": true
   },
   "outputs": [
    {
     "name": "stdout",
     "output_type": "stream",
     "text": [
      "<class 'pandas.core.frame.DataFrame'>\n",
      "Int64Index: 19997 entries, 0 to 19996\n",
      "Data columns (total 34 columns):\n",
      " #   Column                               Non-Null Count  Dtype         \n",
      "---  ------                               --------------  -----         \n",
      " 0   customer_id                          19997 non-null  int64         \n",
      " 1   Customer Title                       19997 non-null  object        \n",
      " 2   transaction_id                       19997 non-null  int64         \n",
      " 3   product_id                           19997 non-null  int64         \n",
      " 4   transaction_date                     19997 non-null  datetime64[ns]\n",
      " 5   online_order                         19637 non-null  float64       \n",
      " 6   order_status                         19997 non-null  object        \n",
      " 7   brand                                19800 non-null  object        \n",
      " 8   product_line                         19800 non-null  object        \n",
      " 9   product_class                        19800 non-null  object        \n",
      " 10  product_size                         19800 non-null  object        \n",
      " 11  list_price                           19997 non-null  float64       \n",
      " 12  standard_cost                        19800 non-null  float64       \n",
      " 13  product_first_sold_date              19800 non-null  object        \n",
      " 14  Profit                               19800 non-null  float64       \n",
      " 15  first_name                           19997 non-null  object        \n",
      " 16  last_name                            19355 non-null  object        \n",
      " 17  gender                               19997 non-null  object        \n",
      " 18  past_3_years_bike_related_purchases  19997 non-null  int64         \n",
      " 19  DOB                                  19551 non-null  datetime64[ns]\n",
      " 20  job_title                            17603 non-null  object        \n",
      " 21  job_industry_category                16768 non-null  object        \n",
      " 22  wealth_segment                       19997 non-null  object        \n",
      " 23  deceased_indicator                   19997 non-null  object        \n",
      " 24  owns_car                             19997 non-null  object        \n",
      " 25  tenure                               19551 non-null  float64       \n",
      " 26  address                              0 non-null      object        \n",
      " 27  postcode                             0 non-null      float64       \n",
      " 28  state                                0 non-null      object        \n",
      " 29  country                              0 non-null      object        \n",
      " 30  property_valuation                   0 non-null      float64       \n",
      " 31  Rank                                 0 non-null      float64       \n",
      " 32  Value                                0 non-null      float64       \n",
      " 33  Recency                              19997 non-null  int64         \n",
      "dtypes: datetime64[ns](2), float64(9), int64(5), object(18)\n",
      "memory usage: 5.3+ MB\n"
     ]
    }
   ],
   "source": [
    "New_CustomerTitle.info()"
   ]
  },
  {
   "cell_type": "code",
   "execution_count": 66,
   "id": "dd164091",
   "metadata": {},
   "outputs": [
    {
     "data": {
      "text/plain": [
       "Solex             4252\n",
       "Giant Bicycles    3312\n",
       "WeareA2B          3295\n",
       "OHM Cycles        3042\n",
       "Trek Bicycles     2990\n",
       "Norco Bicycles    2909\n",
       "Name: brand, dtype: int64"
      ]
     },
     "execution_count": 66,
     "metadata": {},
     "output_type": "execute_result"
    }
   ],
   "source": [
    "New_CustomerTitle[\"brand\"].value_counts()"
   ]
  },
  {
   "cell_type": "code",
   "execution_count": 67,
   "id": "b1952863",
   "metadata": {},
   "outputs": [],
   "source": [
    "df1= New_CustomerTitle.groupby(\"brand\")[\"Profit\"].max()\n",
    "df1.sort_values(ascending=True, inplace=True)"
   ]
  },
  {
   "cell_type": "code",
   "execution_count": 68,
   "id": "340c965b",
   "metadata": {},
   "outputs": [
    {
     "data": {
      "image/png": "[encoded data removed]",
      "text/plain": [
       "<Figure size 576x396 with 1 Axes>"
      ]
     },
     "metadata": {},
     "output_type": "display_data"
    }
   ],
   "source": [
    "plt.style.use(\"seaborn\")\n",
    "\n",
    "ax= df1.plot.barh(cmap=\"tab20\")\n",
    "plt.title(\"Most Profitable Brand\")\n",
    "plt.xlabel(\"Total number of purchases\")\n",
    "\n",
    "for containter in ax.containers:\n",
    "    ax.bar_label(containter)\n",
    "\n",
    "plt.savefig(\"Profitable Brand.png\")\n",
    "plt.show()"
   ]
  },
  {
   "cell_type": "code",
   "execution_count": 69,
   "id": "c4ee0de0",
   "metadata": {},
   "outputs": [],
   "source": [
    "df2= New_CustomerTitle.groupby([\"brand\",\"Customer Title\"])[\"Profit\"].mean().unstack()\n",
    "# df2.sort_values(ascending=False, inplace=True)"
   ]
  },
  {
   "cell_type": "code",
   "execution_count": 70,
   "id": "21adb5bf",
   "metadata": {},
   "outputs": [
    {
     "data": {
      "text/html": [
       "<div>\n",
       "<style scoped>\n",
       "    .dataframe tbody tr th:only-of-type {\n",
       "        vertical-align: middle;\n",
       "    }\n",
       "\n",
       "    .dataframe tbody tr th {\n",
       "        vertical-align: top;\n",
       "    }\n",
       "\n",
       "    .dataframe thead th {\n",
       "        text-align: right;\n",
       "    }\n",
       "</style>\n",
       "<table border=\"1\" class=\"dataframe\">\n",
       "  <thead>\n",
       "    <tr style=\"text-align: right;\">\n",
       "      <th>Customer Title</th>\n",
       "      <th>Bronze</th>\n",
       "      <th>Gold</th>\n",
       "      <th>Platinum</th>\n",
       "      <th>Silver</th>\n",
       "    </tr>\n",
       "    <tr>\n",
       "      <th>brand</th>\n",
       "      <th></th>\n",
       "      <th></th>\n",
       "      <th></th>\n",
       "      <th></th>\n",
       "    </tr>\n",
       "  </thead>\n",
       "  <tbody>\n",
       "    <tr>\n",
       "      <th>Giant Bicycles</th>\n",
       "      <td>466.525383</td>\n",
       "      <td>467.190792</td>\n",
       "      <td>482.832142</td>\n",
       "      <td>473.751658</td>\n",
       "    </tr>\n",
       "    <tr>\n",
       "      <th>Norco Bicycles</th>\n",
       "      <td>309.538742</td>\n",
       "      <td>294.812847</td>\n",
       "      <td>298.286483</td>\n",
       "      <td>292.238611</td>\n",
       "    </tr>\n",
       "    <tr>\n",
       "      <th>OHM Cycles</th>\n",
       "      <td>438.996838</td>\n",
       "      <td>487.470827</td>\n",
       "      <td>512.255858</td>\n",
       "      <td>469.066273</td>\n",
       "    </tr>\n",
       "    <tr>\n",
       "      <th>Solex</th>\n",
       "      <td>540.287837</td>\n",
       "      <td>577.197117</td>\n",
       "      <td>576.936092</td>\n",
       "      <td>560.554164</td>\n",
       "    </tr>\n",
       "    <tr>\n",
       "      <th>Trek Bicycles</th>\n",
       "      <td>610.470020</td>\n",
       "      <td>619.786954</td>\n",
       "      <td>607.910478</td>\n",
       "      <td>629.632687</td>\n",
       "    </tr>\n",
       "    <tr>\n",
       "      <th>WeareA2B</th>\n",
       "      <td>786.572844</td>\n",
       "      <td>850.318148</td>\n",
       "      <td>847.198616</td>\n",
       "      <td>834.801135</td>\n",
       "    </tr>\n",
       "  </tbody>\n",
       "</table>\n",
       "</div>"
      ],
      "text/plain": [
       "Customer Title      Bronze        Gold    Platinum      Silver\n",
       "brand                                                         \n",
       "Giant Bicycles  466.525383  467.190792  482.832142  473.751658\n",
       "Norco Bicycles  309.538742  294.812847  298.286483  292.238611\n",
       "OHM Cycles      438.996838  487.470827  512.255858  469.066273\n",
       "Solex           540.287837  577.197117  576.936092  560.554164\n",
       "Trek Bicycles   610.470020  619.786954  607.910478  629.632687\n",
       "WeareA2B        786.572844  850.318148  847.198616  834.801135"
      ]
     },
     "execution_count": 70,
     "metadata": {},
     "output_type": "execute_result"
    }
   ],
   "source": [
    "df2"
   ]
  },
  {
   "cell_type": "code",
   "execution_count": 71,
   "id": "0dc3a1ad",
   "metadata": {},
   "outputs": [
    {
     "data": {
      "image/png": "[encoded data removed]",
      "text/plain": [
       "<Figure size 576x396 with 1 Axes>"
      ]
     },
     "metadata": {},
     "output_type": "display_data"
    }
   ],
   "source": [
    "plt.style.use('seaborn')\n",
    "ax= df2.plot.barh(cmap=\"tab20\")\n",
    "\n",
    "plt.xlabel(\"Total number of Customers\")\n",
    "plt.ylabel(\"Brand\")\n",
    "plt.title(\"The most Profitable brand according to RFM value\")\n",
    "plt.legend(bbox_to_anchor=(1.3, 1))\n",
    "plt.tight_layout()\n",
    "\n",
    "\n",
    "# for containter in ax.containers:\n",
    "#     ax.bar_label(containter)\n",
    "\n",
    "plt.savefig(\"Profitable brand per RFM.png\")\n",
    "\n",
    "plt.show()"
   ]
  },
  {
   "cell_type": "code",
   "execution_count": 72,
   "id": "b6140dd6",
   "metadata": {},
   "outputs": [],
   "source": [
    "df3= New_CustomerTitle.groupby([\"wealth_segment\", \"Customer Title\"])[\"Customer Title\"].count().unstack()\n",
    "df3.sort_values(by=[\"Bronze\",\"Gold\",\"Platinum\",\"Silver\"], ascending=False, inplace=True)"
   ]
  },
  {
   "cell_type": "code",
   "execution_count": 73,
   "id": "a9b928cb",
   "metadata": {},
   "outputs": [
    {
     "data": {
      "text/html": [
       "<div>\n",
       "<style scoped>\n",
       "    .dataframe tbody tr th:only-of-type {\n",
       "        vertical-align: middle;\n",
       "    }\n",
       "\n",
       "    .dataframe tbody tr th {\n",
       "        vertical-align: top;\n",
       "    }\n",
       "\n",
       "    .dataframe thead th {\n",
       "        text-align: right;\n",
       "    }\n",
       "</style>\n",
       "<table border=\"1\" class=\"dataframe\">\n",
       "  <thead>\n",
       "    <tr style=\"text-align: right;\">\n",
       "      <th>Customer Title</th>\n",
       "      <th>Bronze</th>\n",
       "      <th>Gold</th>\n",
       "      <th>Platinum</th>\n",
       "      <th>Silver</th>\n",
       "    </tr>\n",
       "    <tr>\n",
       "      <th>wealth_segment</th>\n",
       "      <th></th>\n",
       "      <th></th>\n",
       "      <th></th>\n",
       "      <th></th>\n",
       "    </tr>\n",
       "  </thead>\n",
       "  <tbody>\n",
       "    <tr>\n",
       "      <th>Mass Customer</th>\n",
       "      <td>1672</td>\n",
       "      <td>2065</td>\n",
       "      <td>4452</td>\n",
       "      <td>1862</td>\n",
       "    </tr>\n",
       "    <tr>\n",
       "      <th>Affluent Customer</th>\n",
       "      <td>849</td>\n",
       "      <td>1125</td>\n",
       "      <td>1999</td>\n",
       "      <td>885</td>\n",
       "    </tr>\n",
       "    <tr>\n",
       "      <th>High Net Worth</th>\n",
       "      <td>798</td>\n",
       "      <td>1003</td>\n",
       "      <td>2373</td>\n",
       "      <td>914</td>\n",
       "    </tr>\n",
       "  </tbody>\n",
       "</table>\n",
       "</div>"
      ],
      "text/plain": [
       "Customer Title     Bronze  Gold  Platinum  Silver\n",
       "wealth_segment                                   \n",
       "Mass Customer        1672  2065      4452    1862\n",
       "Affluent Customer     849  1125      1999     885\n",
       "High Net Worth        798  1003      2373     914"
      ]
     },
     "execution_count": 73,
     "metadata": {},
     "output_type": "execute_result"
    }
   ],
   "source": [
    "df3"
   ]
  },
  {
   "cell_type": "code",
   "execution_count": 74,
   "id": "a71ef885",
   "metadata": {},
   "outputs": [
    {
     "data": {
      "image/png": "[encoded data removed]",
      "text/plain": [
       "<Figure size 576x396 with 1 Axes>"
      ]
     },
     "metadata": {},
     "output_type": "display_data"
    }
   ],
   "source": [
    "# create a scatter plot of the data\n",
    "df3[::-1].plot.barh()\n",
    "\n",
    "# add axis labels and title\n",
    "plt.xlabel(\"Total number of customers\")\n",
    "\n",
    "plt.title(\"Wealth segement vs Customer title\")\n",
    "\n",
    "plt.savefig(\"Wealth segement vs Customer title\")\n",
    "plt.show()"
   ]
  },
  {
   "cell_type": "code",
   "execution_count": 75,
   "id": "369a7336",
   "metadata": {},
   "outputs": [],
   "source": [
    "df4= New_CustomerTitle.groupby(\"gender\")[\"past_3_years_bike_related_purchases\"].mean()\n",
    "df4.sort_values(ascending=False, inplace=True)"
   ]
  },
  {
   "cell_type": "code",
   "execution_count": 96,
   "id": "1c304f3e",
   "metadata": {
    "scrolled": true
   },
   "outputs": [
    {
     "data": {
      "image/png": "[encoded data removed]",
      "text/plain": [
       "<Figure size 576x396 with 1 Axes>"
      ]
     },
     "metadata": {},
     "output_type": "display_data"
    }
   ],
   "source": [
    "plt.style.use(\"seaborn\")\n",
    "\n",
    "ax= df4.plot.bar()\n",
    "plt.title(\"Bike related purchase by gender\")\n",
    "plt.ylabel(\"Number of purchase\")\n",
    "\n",
    "for containter in ax.containers:\n",
    "    ax.bar_label(containter)\n",
    "\n",
    "plt.tight_layout()\n",
    "plt.savefig(\"Bike related purchase by gender\")\n",
    "plt.show()"
   ]
  },
  {
   "cell_type": "code",
   "execution_count": 77,
   "id": "405671fb",
   "metadata": {},
   "outputs": [
    {
     "data": {
      "text/html": [
       "<div>\n",
       "<style scoped>\n",
       "    .dataframe tbody tr th:only-of-type {\n",
       "        vertical-align: middle;\n",
       "    }\n",
       "\n",
       "    .dataframe tbody tr th {\n",
       "        vertical-align: top;\n",
       "    }\n",
       "\n",
       "    .dataframe thead th {\n",
       "        text-align: right;\n",
       "    }\n",
       "</style>\n",
       "<table border=\"1\" class=\"dataframe\">\n",
       "  <thead>\n",
       "    <tr style=\"text-align: right;\">\n",
       "      <th>job_industry_category</th>\n",
       "      <th>Argiculture</th>\n",
       "      <th>Entertainment</th>\n",
       "      <th>Financial Services</th>\n",
       "      <th>Health</th>\n",
       "      <th>IT</th>\n",
       "      <th>Manufacturing</th>\n",
       "      <th>Property</th>\n",
       "      <th>Retail</th>\n",
       "      <th>Telecommunications</th>\n",
       "    </tr>\n",
       "    <tr>\n",
       "      <th>Customer Title</th>\n",
       "      <th></th>\n",
       "      <th></th>\n",
       "      <th></th>\n",
       "      <th></th>\n",
       "      <th></th>\n",
       "      <th></th>\n",
       "      <th></th>\n",
       "      <th></th>\n",
       "      <th></th>\n",
       "    </tr>\n",
       "  </thead>\n",
       "  <tbody>\n",
       "    <tr>\n",
       "      <th>Bronze</th>\n",
       "      <td>104</td>\n",
       "      <td>132</td>\n",
       "      <td>678</td>\n",
       "      <td>416</td>\n",
       "      <td>179</td>\n",
       "      <td>658</td>\n",
       "      <td>208</td>\n",
       "      <td>288</td>\n",
       "      <td>73</td>\n",
       "    </tr>\n",
       "    <tr>\n",
       "      <th>Gold</th>\n",
       "      <td>84</td>\n",
       "      <td>164</td>\n",
       "      <td>710</td>\n",
       "      <td>704</td>\n",
       "      <td>232</td>\n",
       "      <td>931</td>\n",
       "      <td>274</td>\n",
       "      <td>401</td>\n",
       "      <td>60</td>\n",
       "    </tr>\n",
       "    <tr>\n",
       "      <th>Platinum</th>\n",
       "      <td>259</td>\n",
       "      <td>265</td>\n",
       "      <td>1843</td>\n",
       "      <td>1425</td>\n",
       "      <td>459</td>\n",
       "      <td>1657</td>\n",
       "      <td>582</td>\n",
       "      <td>732</td>\n",
       "      <td>159</td>\n",
       "    </tr>\n",
       "    <tr>\n",
       "      <th>Silver</th>\n",
       "      <td>131</td>\n",
       "      <td>137</td>\n",
       "      <td>655</td>\n",
       "      <td>554</td>\n",
       "      <td>214</td>\n",
       "      <td>768</td>\n",
       "      <td>233</td>\n",
       "      <td>337</td>\n",
       "      <td>62</td>\n",
       "    </tr>\n",
       "  </tbody>\n",
       "</table>\n",
       "</div>"
      ],
      "text/plain": [
       "job_industry_category  Argiculture  Entertainment  Financial Services  Health  \\\n",
       "Customer Title                                                                  \n",
       "Bronze                         104            132                 678     416   \n",
       "Gold                            84            164                 710     704   \n",
       "Platinum                       259            265                1843    1425   \n",
       "Silver                         131            137                 655     554   \n",
       "\n",
       "job_industry_category   IT  Manufacturing  Property  Retail  \\\n",
       "Customer Title                                                \n",
       "Bronze                 179            658       208     288   \n",
       "Gold                   232            931       274     401   \n",
       "Platinum               459           1657       582     732   \n",
       "Silver                 214            768       233     337   \n",
       "\n",
       "job_industry_category  Telecommunications  \n",
       "Customer Title                             \n",
       "Bronze                                 73  \n",
       "Gold                                   60  \n",
       "Platinum                              159  \n",
       "Silver                                 62  "
      ]
     },
     "execution_count": 77,
     "metadata": {},
     "output_type": "execute_result"
    }
   ],
   "source": [
    "df6= New_CustomerTitle.groupby([\"Customer Title\",\"job_industry_category\"])[\"job_industry_category\"].count().unstack()\n",
    "df6"
   ]
  },
  {
   "cell_type": "code",
   "execution_count": 78,
   "id": "c801ec76",
   "metadata": {},
   "outputs": [
    {
     "data": {
      "text/plain": [
       "<AxesSubplot:ylabel='Customer Title'>"
      ]
     },
     "execution_count": 78,
     "metadata": {},
     "output_type": "execute_result"
    },
    {
     "data": {
      "image/png": "[encoded data removed]",
      "text/plain": [
       "<Figure size 576x396 with 1 Axes>"
      ]
     },
     "metadata": {},
     "output_type": "display_data"
    }
   ],
   "source": [
    "plt.style.use(\"seaborn\")\n",
    "df6.plot.barh()"
   ]
  },
  {
   "cell_type": "code",
   "execution_count": 79,
   "id": "9599c7b3",
   "metadata": {},
   "outputs": [],
   "source": [
    "New_CustomerTitle.to_csv(\"Customers.csv\")"
   ]
  },
  {
   "cell_type": "markdown",
   "id": "4f72453f",
   "metadata": {},
   "source": [
    "### Getting age"
   ]
  },
  {
   "cell_type": "code",
   "execution_count": 80,
   "id": "e80094e2",
   "metadata": {},
   "outputs": [
    {
     "data": {
      "text/plain": [
       "N    19989\n",
       "Y        8\n",
       "Name: deceased_indicator, dtype: int64"
      ]
     },
     "execution_count": 80,
     "metadata": {},
     "output_type": "execute_result"
    }
   ],
   "source": [
    "New_CustomerTitle[\"deceased_indicator\"].value_counts()"
   ]
  },
  {
   "cell_type": "code",
   "execution_count": 81,
   "id": "a32e09ba",
   "metadata": {},
   "outputs": [
    {
     "data": {
      "text/html": [
       "<div>\n",
       "<style scoped>\n",
       "    .dataframe tbody tr th:only-of-type {\n",
       "        vertical-align: middle;\n",
       "    }\n",
       "\n",
       "    .dataframe tbody tr th {\n",
       "        vertical-align: top;\n",
       "    }\n",
       "\n",
       "    .dataframe thead th {\n",
       "        text-align: right;\n",
       "    }\n",
       "</style>\n",
       "<table border=\"1\" class=\"dataframe\">\n",
       "  <thead>\n",
       "    <tr style=\"text-align: right;\">\n",
       "      <th></th>\n",
       "      <th>customer_id</th>\n",
       "      <th>Customer Title</th>\n",
       "      <th>transaction_id</th>\n",
       "      <th>product_id</th>\n",
       "      <th>transaction_date</th>\n",
       "      <th>online_order</th>\n",
       "      <th>order_status</th>\n",
       "      <th>brand</th>\n",
       "      <th>product_line</th>\n",
       "      <th>product_class</th>\n",
       "      <th>...</th>\n",
       "      <th>owns_car</th>\n",
       "      <th>tenure</th>\n",
       "      <th>address</th>\n",
       "      <th>postcode</th>\n",
       "      <th>state</th>\n",
       "      <th>country</th>\n",
       "      <th>property_valuation</th>\n",
       "      <th>Rank</th>\n",
       "      <th>Value</th>\n",
       "      <th>Recency</th>\n",
       "    </tr>\n",
       "  </thead>\n",
       "  <tbody>\n",
       "    <tr>\n",
       "      <th>0</th>\n",
       "      <td>1</td>\n",
       "      <td>Platinum</td>\n",
       "      <td>94</td>\n",
       "      <td>86</td>\n",
       "      <td>2017-12-23</td>\n",
       "      <td>0.0</td>\n",
       "      <td>Approved</td>\n",
       "      <td>OHM Cycles</td>\n",
       "      <td>Standard</td>\n",
       "      <td>medium</td>\n",
       "      <td>...</td>\n",
       "      <td>Yes</td>\n",
       "      <td>11.0</td>\n",
       "      <td>NaN</td>\n",
       "      <td>NaN</td>\n",
       "      <td>NaN</td>\n",
       "      <td>NaN</td>\n",
       "      <td>NaN</td>\n",
       "      <td>NaN</td>\n",
       "      <td>NaN</td>\n",
       "      <td>7</td>\n",
       "    </tr>\n",
       "    <tr>\n",
       "      <th>1</th>\n",
       "      <td>1</td>\n",
       "      <td>Platinum</td>\n",
       "      <td>3765</td>\n",
       "      <td>38</td>\n",
       "      <td>2017-04-06</td>\n",
       "      <td>1.0</td>\n",
       "      <td>Approved</td>\n",
       "      <td>Solex</td>\n",
       "      <td>Standard</td>\n",
       "      <td>medium</td>\n",
       "      <td>...</td>\n",
       "      <td>Yes</td>\n",
       "      <td>11.0</td>\n",
       "      <td>NaN</td>\n",
       "      <td>NaN</td>\n",
       "      <td>NaN</td>\n",
       "      <td>NaN</td>\n",
       "      <td>NaN</td>\n",
       "      <td>NaN</td>\n",
       "      <td>NaN</td>\n",
       "      <td>268</td>\n",
       "    </tr>\n",
       "    <tr>\n",
       "      <th>2</th>\n",
       "      <td>1</td>\n",
       "      <td>Platinum</td>\n",
       "      <td>5157</td>\n",
       "      <td>47</td>\n",
       "      <td>2017-05-11</td>\n",
       "      <td>1.0</td>\n",
       "      <td>Approved</td>\n",
       "      <td>Trek Bicycles</td>\n",
       "      <td>Road</td>\n",
       "      <td>low</td>\n",
       "      <td>...</td>\n",
       "      <td>Yes</td>\n",
       "      <td>11.0</td>\n",
       "      <td>NaN</td>\n",
       "      <td>NaN</td>\n",
       "      <td>NaN</td>\n",
       "      <td>NaN</td>\n",
       "      <td>NaN</td>\n",
       "      <td>NaN</td>\n",
       "      <td>NaN</td>\n",
       "      <td>233</td>\n",
       "    </tr>\n",
       "    <tr>\n",
       "      <th>3</th>\n",
       "      <td>1</td>\n",
       "      <td>Platinum</td>\n",
       "      <td>9785</td>\n",
       "      <td>72</td>\n",
       "      <td>2017-01-05</td>\n",
       "      <td>0.0</td>\n",
       "      <td>Approved</td>\n",
       "      <td>Norco Bicycles</td>\n",
       "      <td>Standard</td>\n",
       "      <td>medium</td>\n",
       "      <td>...</td>\n",
       "      <td>Yes</td>\n",
       "      <td>11.0</td>\n",
       "      <td>NaN</td>\n",
       "      <td>NaN</td>\n",
       "      <td>NaN</td>\n",
       "      <td>NaN</td>\n",
       "      <td>NaN</td>\n",
       "      <td>NaN</td>\n",
       "      <td>NaN</td>\n",
       "      <td>359</td>\n",
       "    </tr>\n",
       "    <tr>\n",
       "      <th>4</th>\n",
       "      <td>1</td>\n",
       "      <td>Platinum</td>\n",
       "      <td>13424</td>\n",
       "      <td>2</td>\n",
       "      <td>2017-02-21</td>\n",
       "      <td>0.0</td>\n",
       "      <td>Approved</td>\n",
       "      <td>Solex</td>\n",
       "      <td>Standard</td>\n",
       "      <td>medium</td>\n",
       "      <td>...</td>\n",
       "      <td>Yes</td>\n",
       "      <td>11.0</td>\n",
       "      <td>NaN</td>\n",
       "      <td>NaN</td>\n",
       "      <td>NaN</td>\n",
       "      <td>NaN</td>\n",
       "      <td>NaN</td>\n",
       "      <td>NaN</td>\n",
       "      <td>NaN</td>\n",
       "      <td>312</td>\n",
       "    </tr>\n",
       "    <tr>\n",
       "      <th>...</th>\n",
       "      <td>...</td>\n",
       "      <td>...</td>\n",
       "      <td>...</td>\n",
       "      <td>...</td>\n",
       "      <td>...</td>\n",
       "      <td>...</td>\n",
       "      <td>...</td>\n",
       "      <td>...</td>\n",
       "      <td>...</td>\n",
       "      <td>...</td>\n",
       "      <td>...</td>\n",
       "      <td>...</td>\n",
       "      <td>...</td>\n",
       "      <td>...</td>\n",
       "      <td>...</td>\n",
       "      <td>...</td>\n",
       "      <td>...</td>\n",
       "      <td>...</td>\n",
       "      <td>...</td>\n",
       "      <td>...</td>\n",
       "      <td>...</td>\n",
       "    </tr>\n",
       "    <tr>\n",
       "      <th>19992</th>\n",
       "      <td>3500</td>\n",
       "      <td>Bronze</td>\n",
       "      <td>6309</td>\n",
       "      <td>69</td>\n",
       "      <td>2017-01-09</td>\n",
       "      <td>1.0</td>\n",
       "      <td>Approved</td>\n",
       "      <td>Giant Bicycles</td>\n",
       "      <td>Road</td>\n",
       "      <td>medium</td>\n",
       "      <td>...</td>\n",
       "      <td>No</td>\n",
       "      <td>17.0</td>\n",
       "      <td>NaN</td>\n",
       "      <td>NaN</td>\n",
       "      <td>NaN</td>\n",
       "      <td>NaN</td>\n",
       "      <td>NaN</td>\n",
       "      <td>NaN</td>\n",
       "      <td>NaN</td>\n",
       "      <td>355</td>\n",
       "    </tr>\n",
       "    <tr>\n",
       "      <th>19993</th>\n",
       "      <td>3500</td>\n",
       "      <td>Bronze</td>\n",
       "      <td>8416</td>\n",
       "      <td>74</td>\n",
       "      <td>2017-02-16</td>\n",
       "      <td>0.0</td>\n",
       "      <td>Approved</td>\n",
       "      <td>WeareA2B</td>\n",
       "      <td>Standard</td>\n",
       "      <td>medium</td>\n",
       "      <td>...</td>\n",
       "      <td>No</td>\n",
       "      <td>17.0</td>\n",
       "      <td>NaN</td>\n",
       "      <td>NaN</td>\n",
       "      <td>NaN</td>\n",
       "      <td>NaN</td>\n",
       "      <td>NaN</td>\n",
       "      <td>NaN</td>\n",
       "      <td>NaN</td>\n",
       "      <td>317</td>\n",
       "    </tr>\n",
       "    <tr>\n",
       "      <th>19994</th>\n",
       "      <td>3500</td>\n",
       "      <td>Bronze</td>\n",
       "      <td>8562</td>\n",
       "      <td>33</td>\n",
       "      <td>2017-08-08</td>\n",
       "      <td>0.0</td>\n",
       "      <td>Approved</td>\n",
       "      <td>Giant Bicycles</td>\n",
       "      <td>Standard</td>\n",
       "      <td>medium</td>\n",
       "      <td>...</td>\n",
       "      <td>No</td>\n",
       "      <td>17.0</td>\n",
       "      <td>NaN</td>\n",
       "      <td>NaN</td>\n",
       "      <td>NaN</td>\n",
       "      <td>NaN</td>\n",
       "      <td>NaN</td>\n",
       "      <td>NaN</td>\n",
       "      <td>NaN</td>\n",
       "      <td>144</td>\n",
       "    </tr>\n",
       "    <tr>\n",
       "      <th>19995</th>\n",
       "      <td>3500</td>\n",
       "      <td>Bronze</td>\n",
       "      <td>14870</td>\n",
       "      <td>22</td>\n",
       "      <td>2017-01-11</td>\n",
       "      <td>0.0</td>\n",
       "      <td>Approved</td>\n",
       "      <td>WeareA2B</td>\n",
       "      <td>Standard</td>\n",
       "      <td>medium</td>\n",
       "      <td>...</td>\n",
       "      <td>No</td>\n",
       "      <td>17.0</td>\n",
       "      <td>NaN</td>\n",
       "      <td>NaN</td>\n",
       "      <td>NaN</td>\n",
       "      <td>NaN</td>\n",
       "      <td>NaN</td>\n",
       "      <td>NaN</td>\n",
       "      <td>NaN</td>\n",
       "      <td>353</td>\n",
       "    </tr>\n",
       "    <tr>\n",
       "      <th>19996</th>\n",
       "      <td>3500</td>\n",
       "      <td>Bronze</td>\n",
       "      <td>19836</td>\n",
       "      <td>40</td>\n",
       "      <td>2017-03-14</td>\n",
       "      <td>1.0</td>\n",
       "      <td>Approved</td>\n",
       "      <td>OHM Cycles</td>\n",
       "      <td>Standard</td>\n",
       "      <td>high</td>\n",
       "      <td>...</td>\n",
       "      <td>No</td>\n",
       "      <td>17.0</td>\n",
       "      <td>NaN</td>\n",
       "      <td>NaN</td>\n",
       "      <td>NaN</td>\n",
       "      <td>NaN</td>\n",
       "      <td>NaN</td>\n",
       "      <td>NaN</td>\n",
       "      <td>NaN</td>\n",
       "      <td>291</td>\n",
       "    </tr>\n",
       "  </tbody>\n",
       "</table>\n",
       "<p>19989 rows × 34 columns</p>\n",
       "</div>"
      ],
      "text/plain": [
       "       customer_id Customer Title  transaction_id  product_id  \\\n",
       "0                1       Platinum              94          86   \n",
       "1                1       Platinum            3765          38   \n",
       "2                1       Platinum            5157          47   \n",
       "3                1       Platinum            9785          72   \n",
       "4                1       Platinum           13424           2   \n",
       "...            ...            ...             ...         ...   \n",
       "19992         3500         Bronze            6309          69   \n",
       "19993         3500         Bronze            8416          74   \n",
       "19994         3500         Bronze            8562          33   \n",
       "19995         3500         Bronze           14870          22   \n",
       "19996         3500         Bronze           19836          40   \n",
       "\n",
       "      transaction_date  online_order order_status           brand  \\\n",
       "0           2017-12-23           0.0     Approved      OHM Cycles   \n",
       "1           2017-04-06           1.0     Approved           Solex   \n",
       "2           2017-05-11           1.0     Approved   Trek Bicycles   \n",
       "3           2017-01-05           0.0     Approved  Norco Bicycles   \n",
       "4           2017-02-21           0.0     Approved           Solex   \n",
       "...                ...           ...          ...             ...   \n",
       "19992       2017-01-09           1.0     Approved  Giant Bicycles   \n",
       "19993       2017-02-16           0.0     Approved        WeareA2B   \n",
       "19994       2017-08-08           0.0     Approved  Giant Bicycles   \n",
       "19995       2017-01-11           0.0     Approved        WeareA2B   \n",
       "19996       2017-03-14           1.0     Approved      OHM Cycles   \n",
       "\n",
       "      product_line product_class  ... owns_car  tenure  address postcode  \\\n",
       "0         Standard        medium  ...      Yes    11.0      NaN      NaN   \n",
       "1         Standard        medium  ...      Yes    11.0      NaN      NaN   \n",
       "2             Road           low  ...      Yes    11.0      NaN      NaN   \n",
       "3         Standard        medium  ...      Yes    11.0      NaN      NaN   \n",
       "4         Standard        medium  ...      Yes    11.0      NaN      NaN   \n",
       "...            ...           ...  ...      ...     ...      ...      ...   \n",
       "19992         Road        medium  ...       No    17.0      NaN      NaN   \n",
       "19993     Standard        medium  ...       No    17.0      NaN      NaN   \n",
       "19994     Standard        medium  ...       No    17.0      NaN      NaN   \n",
       "19995     Standard        medium  ...       No    17.0      NaN      NaN   \n",
       "19996     Standard          high  ...       No    17.0      NaN      NaN   \n",
       "\n",
       "       state country property_valuation Rank  Value Recency  \n",
       "0        NaN     NaN                NaN  NaN    NaN       7  \n",
       "1        NaN     NaN                NaN  NaN    NaN     268  \n",
       "2        NaN     NaN                NaN  NaN    NaN     233  \n",
       "3        NaN     NaN                NaN  NaN    NaN     359  \n",
       "4        NaN     NaN                NaN  NaN    NaN     312  \n",
       "...      ...     ...                ...  ...    ...     ...  \n",
       "19992    NaN     NaN                NaN  NaN    NaN     355  \n",
       "19993    NaN     NaN                NaN  NaN    NaN     317  \n",
       "19994    NaN     NaN                NaN  NaN    NaN     144  \n",
       "19995    NaN     NaN                NaN  NaN    NaN     353  \n",
       "19996    NaN     NaN                NaN  NaN    NaN     291  \n",
       "\n",
       "[19989 rows x 34 columns]"
      ]
     },
     "execution_count": 81,
     "metadata": {},
     "output_type": "execute_result"
    }
   ],
   "source": [
    "filt = New_CustomerTitle[\"deceased_indicator\"] == \"N\"\n",
    "\n",
    "New_CustomerTitle.loc[filt]"
   ]
  },
  {
   "cell_type": "code",
   "execution_count": 82,
   "id": "b63be83e",
   "metadata": {},
   "outputs": [
    {
     "name": "stdout",
     "output_type": "stream",
     "text": [
      "2023-03-09\n"
     ]
    }
   ],
   "source": [
    "current_time = pd.Timestamp.now().strftime('%Y-%m-%d')\n",
    "print(current_time)"
   ]
  },
  {
   "cell_type": "code",
   "execution_count": 83,
   "id": "81a5f0b5",
   "metadata": {},
   "outputs": [],
   "source": [
    "New_CustomerTitle[\"DOB\"] = pd.to_datetime(New_CustomerTitle[\"DOB\"], format='%Y-%m-%d')"
   ]
  },
  {
   "cell_type": "code",
   "execution_count": 84,
   "id": "b8ea7111",
   "metadata": {
    "collapsed": true
   },
   "outputs": [
    {
     "ename": "TypeError",
     "evalue": "unsupported operand type(s) for -: 'DatetimeArray' and 'str'",
     "output_type": "error",
     "traceback": [
      "\u001b[1;31m---------------------------------------------------------------------------\u001b[0m",
      "\u001b[1;31mTypeError\u001b[0m                                 Traceback (most recent call last)",
      "\u001b[1;32m~\\AppData\\Local\\Temp/ipykernel_18444/312778843.py\u001b[0m in \u001b[0;36m<module>\u001b[1;34m\u001b[0m\n\u001b[1;32m----> 1\u001b[1;33m \u001b[0mdf\u001b[0m\u001b[1;33m[\u001b[0m\u001b[1;34m'Age'\u001b[0m\u001b[1;33m]\u001b[0m \u001b[1;33m=\u001b[0m\u001b[1;33m(\u001b[0m\u001b[1;33m(\u001b[0m\u001b[0mcurrent_time\u001b[0m\u001b[1;33m-\u001b[0m \u001b[0mNew_CustomerTitle\u001b[0m\u001b[1;33m[\u001b[0m\u001b[1;34m\"DOB\"\u001b[0m\u001b[1;33m]\u001b[0m\u001b[1;33m)\u001b[0m\u001b[1;33m/\u001b[0m \u001b[0mpd\u001b[0m\u001b[1;33m.\u001b[0m\u001b[0mTimedelta\u001b[0m\u001b[1;33m(\u001b[0m\u001b[0mdays\u001b[0m\u001b[1;33m=\u001b[0m\u001b[1;36m365.25\u001b[0m\u001b[1;33m)\u001b[0m\u001b[1;33m)\u001b[0m\u001b[1;33m.\u001b[0m\u001b[0mastype\u001b[0m\u001b[1;33m(\u001b[0m\u001b[0mint\u001b[0m\u001b[1;33m)\u001b[0m\u001b[1;33m\u001b[0m\u001b[1;33m\u001b[0m\u001b[0m\n\u001b[0m",
      "\u001b[1;32m~\\anaconda3\\lib\\site-packages\\pandas\\core\\ops\\common.py\u001b[0m in \u001b[0;36mnew_method\u001b[1;34m(self, other)\u001b[0m\n\u001b[0;32m     67\u001b[0m         \u001b[0mother\u001b[0m \u001b[1;33m=\u001b[0m \u001b[0mitem_from_zerodim\u001b[0m\u001b[1;33m(\u001b[0m\u001b[0mother\u001b[0m\u001b[1;33m)\u001b[0m\u001b[1;33m\u001b[0m\u001b[1;33m\u001b[0m\u001b[0m\n\u001b[0;32m     68\u001b[0m \u001b[1;33m\u001b[0m\u001b[0m\n\u001b[1;32m---> 69\u001b[1;33m         \u001b[1;32mreturn\u001b[0m \u001b[0mmethod\u001b[0m\u001b[1;33m(\u001b[0m\u001b[0mself\u001b[0m\u001b[1;33m,\u001b[0m \u001b[0mother\u001b[0m\u001b[1;33m)\u001b[0m\u001b[1;33m\u001b[0m\u001b[1;33m\u001b[0m\u001b[0m\n\u001b[0m\u001b[0;32m     70\u001b[0m \u001b[1;33m\u001b[0m\u001b[0m\n\u001b[0;32m     71\u001b[0m     \u001b[1;32mreturn\u001b[0m \u001b[0mnew_method\u001b[0m\u001b[1;33m\u001b[0m\u001b[1;33m\u001b[0m\u001b[0m\n",
      "\u001b[1;32m~\\anaconda3\\lib\\site-packages\\pandas\\core\\arraylike.py\u001b[0m in \u001b[0;36m__rsub__\u001b[1;34m(self, other)\u001b[0m\n\u001b[0;32m    102\u001b[0m     \u001b[1;33m@\u001b[0m\u001b[0munpack_zerodim_and_defer\u001b[0m\u001b[1;33m(\u001b[0m\u001b[1;34m\"__rsub__\"\u001b[0m\u001b[1;33m)\u001b[0m\u001b[1;33m\u001b[0m\u001b[1;33m\u001b[0m\u001b[0m\n\u001b[0;32m    103\u001b[0m     \u001b[1;32mdef\u001b[0m \u001b[0m__rsub__\u001b[0m\u001b[1;33m(\u001b[0m\u001b[0mself\u001b[0m\u001b[1;33m,\u001b[0m \u001b[0mother\u001b[0m\u001b[1;33m)\u001b[0m\u001b[1;33m:\u001b[0m\u001b[1;33m\u001b[0m\u001b[1;33m\u001b[0m\u001b[0m\n\u001b[1;32m--> 104\u001b[1;33m         \u001b[1;32mreturn\u001b[0m \u001b[0mself\u001b[0m\u001b[1;33m.\u001b[0m\u001b[0m_arith_method\u001b[0m\u001b[1;33m(\u001b[0m\u001b[0mother\u001b[0m\u001b[1;33m,\u001b[0m \u001b[0mroperator\u001b[0m\u001b[1;33m.\u001b[0m\u001b[0mrsub\u001b[0m\u001b[1;33m)\u001b[0m\u001b[1;33m\u001b[0m\u001b[1;33m\u001b[0m\u001b[0m\n\u001b[0m\u001b[0;32m    105\u001b[0m \u001b[1;33m\u001b[0m\u001b[0m\n\u001b[0;32m    106\u001b[0m     \u001b[1;33m@\u001b[0m\u001b[0munpack_zerodim_and_defer\u001b[0m\u001b[1;33m(\u001b[0m\u001b[1;34m\"__mul__\"\u001b[0m\u001b[1;33m)\u001b[0m\u001b[1;33m\u001b[0m\u001b[1;33m\u001b[0m\u001b[0m\n",
      "\u001b[1;32m~\\anaconda3\\lib\\site-packages\\pandas\\core\\series.py\u001b[0m in \u001b[0;36m_arith_method\u001b[1;34m(self, other, op)\u001b[0m\n\u001b[0;32m   5524\u001b[0m \u001b[1;33m\u001b[0m\u001b[0m\n\u001b[0;32m   5525\u001b[0m         \u001b[1;32mwith\u001b[0m \u001b[0mnp\u001b[0m\u001b[1;33m.\u001b[0m\u001b[0merrstate\u001b[0m\u001b[1;33m(\u001b[0m\u001b[0mall\u001b[0m\u001b[1;33m=\u001b[0m\u001b[1;34m\"ignore\"\u001b[0m\u001b[1;33m)\u001b[0m\u001b[1;33m:\u001b[0m\u001b[1;33m\u001b[0m\u001b[1;33m\u001b[0m\u001b[0m\n\u001b[1;32m-> 5526\u001b[1;33m             \u001b[0mresult\u001b[0m \u001b[1;33m=\u001b[0m \u001b[0mops\u001b[0m\u001b[1;33m.\u001b[0m\u001b[0marithmetic_op\u001b[0m\u001b[1;33m(\u001b[0m\u001b[0mlvalues\u001b[0m\u001b[1;33m,\u001b[0m \u001b[0mrvalues\u001b[0m\u001b[1;33m,\u001b[0m \u001b[0mop\u001b[0m\u001b[1;33m)\u001b[0m\u001b[1;33m\u001b[0m\u001b[1;33m\u001b[0m\u001b[0m\n\u001b[0m\u001b[0;32m   5527\u001b[0m \u001b[1;33m\u001b[0m\u001b[0m\n\u001b[0;32m   5528\u001b[0m         \u001b[1;32mreturn\u001b[0m \u001b[0mself\u001b[0m\u001b[1;33m.\u001b[0m\u001b[0m_construct_result\u001b[0m\u001b[1;33m(\u001b[0m\u001b[0mresult\u001b[0m\u001b[1;33m,\u001b[0m \u001b[0mname\u001b[0m\u001b[1;33m=\u001b[0m\u001b[0mres_name\u001b[0m\u001b[1;33m)\u001b[0m\u001b[1;33m\u001b[0m\u001b[1;33m\u001b[0m\u001b[0m\n",
      "\u001b[1;32m~\\anaconda3\\lib\\site-packages\\pandas\\core\\ops\\array_ops.py\u001b[0m in \u001b[0;36marithmetic_op\u001b[1;34m(left, right, op)\u001b[0m\n\u001b[0;32m    216\u001b[0m         \u001b[1;31m# Timedelta/Timestamp and other custom scalars are included in the check\u001b[0m\u001b[1;33m\u001b[0m\u001b[1;33m\u001b[0m\u001b[0m\n\u001b[0;32m    217\u001b[0m         \u001b[1;31m# because numexpr will fail on it, see GH#31457\u001b[0m\u001b[1;33m\u001b[0m\u001b[1;33m\u001b[0m\u001b[0m\n\u001b[1;32m--> 218\u001b[1;33m         \u001b[0mres_values\u001b[0m \u001b[1;33m=\u001b[0m \u001b[0mop\u001b[0m\u001b[1;33m(\u001b[0m\u001b[0mleft\u001b[0m\u001b[1;33m,\u001b[0m \u001b[0mright\u001b[0m\u001b[1;33m)\u001b[0m\u001b[1;33m\u001b[0m\u001b[1;33m\u001b[0m\u001b[0m\n\u001b[0m\u001b[0;32m    219\u001b[0m     \u001b[1;32melse\u001b[0m\u001b[1;33m:\u001b[0m\u001b[1;33m\u001b[0m\u001b[1;33m\u001b[0m\u001b[0m\n\u001b[0;32m    220\u001b[0m         \u001b[1;31m# TODO we should handle EAs consistently and move this check before the if/else\u001b[0m\u001b[1;33m\u001b[0m\u001b[1;33m\u001b[0m\u001b[0m\n",
      "\u001b[1;32m~\\anaconda3\\lib\\site-packages\\pandas\\core\\roperator.py\u001b[0m in \u001b[0;36mrsub\u001b[1;34m(left, right)\u001b[0m\n\u001b[0;32m     11\u001b[0m \u001b[1;33m\u001b[0m\u001b[0m\n\u001b[0;32m     12\u001b[0m \u001b[1;32mdef\u001b[0m \u001b[0mrsub\u001b[0m\u001b[1;33m(\u001b[0m\u001b[0mleft\u001b[0m\u001b[1;33m,\u001b[0m \u001b[0mright\u001b[0m\u001b[1;33m)\u001b[0m\u001b[1;33m:\u001b[0m\u001b[1;33m\u001b[0m\u001b[1;33m\u001b[0m\u001b[0m\n\u001b[1;32m---> 13\u001b[1;33m     \u001b[1;32mreturn\u001b[0m \u001b[0mright\u001b[0m \u001b[1;33m-\u001b[0m \u001b[0mleft\u001b[0m\u001b[1;33m\u001b[0m\u001b[1;33m\u001b[0m\u001b[0m\n\u001b[0m\u001b[0;32m     14\u001b[0m \u001b[1;33m\u001b[0m\u001b[0m\n\u001b[0;32m     15\u001b[0m \u001b[1;33m\u001b[0m\u001b[0m\n",
      "\u001b[1;32m~\\anaconda3\\lib\\site-packages\\pandas\\core\\arrays\\datetimelike.py\u001b[0m in \u001b[0;36m__rsub__\u001b[1;34m(self, other)\u001b[0m\n\u001b[0;32m   1385\u001b[0m \u001b[1;33m\u001b[0m\u001b[0m\n\u001b[0;32m   1386\u001b[0m         \u001b[1;31m# We get here with e.g. datetime objects\u001b[0m\u001b[1;33m\u001b[0m\u001b[1;33m\u001b[0m\u001b[0m\n\u001b[1;32m-> 1387\u001b[1;33m         \u001b[1;32mreturn\u001b[0m \u001b[1;33m-\u001b[0m\u001b[1;33m(\u001b[0m\u001b[0mself\u001b[0m \u001b[1;33m-\u001b[0m \u001b[0mother\u001b[0m\u001b[1;33m)\u001b[0m\u001b[1;33m\u001b[0m\u001b[1;33m\u001b[0m\u001b[0m\n\u001b[0m\u001b[0;32m   1388\u001b[0m \u001b[1;33m\u001b[0m\u001b[0m\n\u001b[0;32m   1389\u001b[0m     \u001b[1;32mdef\u001b[0m \u001b[0m__iadd__\u001b[0m\u001b[1;33m(\u001b[0m\u001b[0mself\u001b[0m\u001b[1;33m,\u001b[0m \u001b[0mother\u001b[0m\u001b[1;33m)\u001b[0m\u001b[1;33m:\u001b[0m\u001b[1;33m\u001b[0m\u001b[1;33m\u001b[0m\u001b[0m\n",
      "\u001b[1;31mTypeError\u001b[0m: unsupported operand type(s) for -: 'DatetimeArray' and 'str'"
     ]
    }
   ],
   "source": [
    "df['Age'] =((current_time- New_CustomerTitle[\"DOB\"])/ pd.Timedelta(days=365.25)).astype(int)"
   ]
  },
  {
   "cell_type": "code",
   "execution_count": null,
   "id": "bce8b353",
   "metadata": {},
   "outputs": [],
   "source": [
    "New_CustomerTitle['DOB'] = pd.to_datetime(New_CustomerTitle['DOB'])\n",
    "New_CustomerTitle['Age'] = ((pd.Timestamp.now() - New_CustomerTitle['DOB']) / pd.Timedelta(days=365.25)).astype(int)\n",
    "New_CustomerTitle.loc[New_CustomerTitle['deceased_indicator'] == 'Y', 'Age'] = 'Deceased'\n",
    "New_CustomerTitle.loc[pd.isna(New_CustomerTitle['DOB']), 'Age'] = None"
   ]
  },
  {
   "cell_type": "code",
   "execution_count": null,
   "id": "86af11f6",
   "metadata": {},
   "outputs": [],
   "source": [
    "print(New_CustomerTitle['Age'].isnull().sum())\n",
    "print(np.isinf(New_CustomerTitle['Age']).sum())"
   ]
  },
  {
   "cell_type": "code",
   "execution_count": null,
   "id": "db2865ce",
   "metadata": {},
   "outputs": [],
   "source": [
    "New_CustomerTitle.info()"
   ]
  },
  {
   "cell_type": "code",
   "execution_count": null,
   "id": "15a9c5c2",
   "metadata": {},
   "outputs": [],
   "source": [
    "pd.Timestamp.now()"
   ]
  },
  {
   "cell_type": "code",
   "execution_count": null,
   "id": "f55f9be8",
   "metadata": {},
   "outputs": [],
   "source": [
    "New_CustomerTitle[\"DOB\"]"
   ]
  }
 ],
 "metadata": {
  "kernelspec": {
   "display_name": "Python 3 (ipykernel)",
   "language": "python",
   "name": "python3"
  },
  "language_info": {
   "codemirror_mode": {
    "name": "ipython",
    "version": 3
   },
   "file_extension": ".py",
   "mimetype": "text/x-python",
   "name": "python",
   "nbconvert_exporter": "python",
   "pygments_lexer": "ipython3",
   "version": "3.9.7"
  }
 },
 "nbformat": 4,
 "nbformat_minor": 5
}
